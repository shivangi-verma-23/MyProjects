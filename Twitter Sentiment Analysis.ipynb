{
 "cells": [
  {
   "cell_type": "markdown",
   "metadata": {},
   "source": [
    "### <span style = 'color:green'> Twitter Sentiment Analysis </span>\n",
    "#### <span style = 'color:blue'> Performing sentiment analysis on Omnicron variant, data fetching directly from twitter</span>\n",
    "**Sentiment analysis is the process of identifying feelings and emotions expressed in words, through ML or AI**\n",
    "\n",
    "**Project Pipeline**\n",
    "\n",
    "Various steps in completing project are\n",
    "\n",
    "- **Import Necessary Dependencies**\n",
    "- **Read and Load the Dataset**\n",
    "- **Exploratory Data Analysis**\n",
    "- **Data Visualization of Target Variables**\n",
    "- **Data Preprocessing**\n",
    "- **Splitting our data into Train and Test Subset**\n",
    "- **Transforming Dataset using TF-IDF Vectorizer**\n",
    "- **Function for Model Evaluation**\n",
    "- **Model Building**\n",
    "- **Conclusion**\n",
    "\n",
    "- Here we have to get dataset directly fetched from twitter in realtime \n",
    "\n",
    "- performing realtime sentimental analysis on realtime data collecting from twitter\n",
    "- objective: perform sentiment analysis on realtime data collected from twitter \n",
    "\n",
    "                      \n",
    "\n",
    "           "
   ]
  },
  {
   "cell_type": "code",
   "execution_count": 1,
   "metadata": {},
   "outputs": [],
   "source": [
    "import pandas as pd\n",
    "import numpy as np\n",
    "import matplotlib.pyplot as plt\n",
    "import seaborn as sns\n",
    "import warnings\n",
    "warnings.filterwarnings('ignore')\n",
    "%matplotlib inline"
   ]
  },
  {
   "cell_type": "code",
   "execution_count": 2,
   "metadata": {},
   "outputs": [],
   "source": [
    "import nltk\n",
    "from sklearn.feature_extraction.text import CountVectorizer\n",
    "from sklearn.feature_extraction.text import TfidfVectorizer\n",
    "from sklearn.preprocessing import LabelEncoder,LabelBinarizer\n",
    "from nltk.corpus import stopwords\n",
    "from nltk.stem.porter import PorterStemmer\n",
    "from wordcloud import WordCloud,STOPWORDS\n",
    "from nltk.stem import WordNetLemmatizer\n",
    "from nltk.tokenize import word_tokenize,sent_tokenize\n",
    "from nltk.stem import LancasterStemmer\n",
    "from bs4 import BeautifulSoup\n",
    "#import spacy\n",
    "import re,unicodedata,string\n",
    "from nltk.tokenize.toktok import ToktokTokenizer\n",
    "from sklearn.linear_model import LogisticRegression,SGDClassifier\n",
    "from sklearn.naive_bayes import MultinomialNB\n",
    "from sklearn.svm import SVC\n",
    "from textblob import TextBlob,Word\n",
    "from sklearn.metrics import classification_report,confusion_matrix,accuracy_score\n",
    "import re"
   ]
  },
  {
   "cell_type": "code",
   "execution_count": 3,
   "metadata": {},
   "outputs": [],
   "source": [
    "pd.set_option('float_format', '{:f}'.format)"
   ]
  },
  {
   "cell_type": "code",
   "execution_count": 4,
   "metadata": {},
   "outputs": [],
   "source": [
    "df = pd.read_csv('Twitter_Omicron_data_1_1_1.csv')"
   ]
  },
  {
   "cell_type": "code",
   "execution_count": 5,
   "metadata": {},
   "outputs": [
    {
     "data": {
      "text/html": [
       "<div>\n",
       "<style scoped>\n",
       "    .dataframe tbody tr th:only-of-type {\n",
       "        vertical-align: middle;\n",
       "    }\n",
       "\n",
       "    .dataframe tbody tr th {\n",
       "        vertical-align: top;\n",
       "    }\n",
       "\n",
       "    .dataframe thead th {\n",
       "        text-align: right;\n",
       "    }\n",
       "</style>\n",
       "<table border=\"1\" class=\"dataframe\">\n",
       "  <thead>\n",
       "    <tr style=\"text-align: right;\">\n",
       "      <th></th>\n",
       "      <th>tweets</th>\n",
       "      <th>likes</th>\n",
       "      <th>time</th>\n",
       "      <th>retweet_count</th>\n",
       "    </tr>\n",
       "  </thead>\n",
       "  <tbody>\n",
       "    <tr>\n",
       "      <th>0</th>\n",
       "      <td>6 big questions about new Omicron-targeting bo...</td>\n",
       "      <td>0</td>\n",
       "      <td>2023-03-09 18:24:06</td>\n",
       "      <td>0</td>\n",
       "    </tr>\n",
       "    <tr>\n",
       "      <th>1</th>\n",
       "      <td>I'm confused https://t.co/NyfgdYUYAT</td>\n",
       "      <td>0</td>\n",
       "      <td>2023-03-09 18:23:43</td>\n",
       "      <td>0</td>\n",
       "    </tr>\n",
       "    <tr>\n",
       "      <th>2</th>\n",
       "      <td>Long COVID less likely after Omicron than afte...</td>\n",
       "      <td>0</td>\n",
       "      <td>2023-03-09 18:22:43</td>\n",
       "      <td>0</td>\n",
       "    </tr>\n",
       "    <tr>\n",
       "      <th>3</th>\n",
       "      <td>The finding don't tally with the high numbers ...</td>\n",
       "      <td>0</td>\n",
       "      <td>2023-03-09 18:21:45</td>\n",
       "      <td>0</td>\n",
       "    </tr>\n",
       "    <tr>\n",
       "      <th>4</th>\n",
       "      <td>A conference abstract from the European Congre...</td>\n",
       "      <td>1</td>\n",
       "      <td>2023-03-09 18:21:45</td>\n",
       "      <td>1</td>\n",
       "    </tr>\n",
       "  </tbody>\n",
       "</table>\n",
       "</div>"
      ],
      "text/plain": [
       "                                              tweets  likes  \\\n",
       "0  6 big questions about new Omicron-targeting bo...      0   \n",
       "1               I'm confused https://t.co/NyfgdYUYAT      0   \n",
       "2  Long COVID less likely after Omicron than afte...      0   \n",
       "3  The finding don't tally with the high numbers ...      0   \n",
       "4  A conference abstract from the European Congre...      1   \n",
       "\n",
       "                  time  retweet_count  \n",
       "0  2023-03-09 18:24:06              0  \n",
       "1  2023-03-09 18:23:43              0  \n",
       "2  2023-03-09 18:22:43              0  \n",
       "3  2023-03-09 18:21:45              0  \n",
       "4  2023-03-09 18:21:45              1  "
      ]
     },
     "execution_count": 5,
     "metadata": {},
     "output_type": "execute_result"
    }
   ],
   "source": [
    "df.head()"
   ]
  },
  {
   "cell_type": "code",
   "execution_count": 6,
   "metadata": {},
   "outputs": [
    {
     "data": {
      "text/plain": [
       "(6998, 4)"
      ]
     },
     "execution_count": 6,
     "metadata": {},
     "output_type": "execute_result"
    }
   ],
   "source": [
    "df.shape"
   ]
  },
  {
   "cell_type": "code",
   "execution_count": 7,
   "metadata": {},
   "outputs": [
    {
     "name": "stdout",
     "output_type": "stream",
     "text": [
      "<class 'pandas.core.frame.DataFrame'>\n",
      "RangeIndex: 6998 entries, 0 to 6997\n",
      "Data columns (total 4 columns):\n",
      " #   Column         Non-Null Count  Dtype \n",
      "---  ------         --------------  ----- \n",
      " 0   tweets         6998 non-null   object\n",
      " 1   likes          6998 non-null   int64 \n",
      " 2   time           6998 non-null   object\n",
      " 3   retweet_count  6998 non-null   int64 \n",
      "dtypes: int64(2), object(2)\n",
      "memory usage: 218.8+ KB\n"
     ]
    }
   ],
   "source": [
    "df.info()"
   ]
  },
  {
   "cell_type": "code",
   "execution_count": 8,
   "metadata": {},
   "outputs": [
    {
     "data": {
      "text/plain": [
       "['6 big questions about new Omicron-targeting boosters ... #Boosting #Target #targeting #boost https://t.co/9TWMuUXxJn',\n",
       " \"I'm confused https://t.co/NyfgdYUYAT\",\n",
       " 'Long COVID less likely after Omicron than after original virus, Swiss ... - LabPulse https://t.co/v4u9QBo8hS',\n",
       " \"The finding don't tally with the high numbers we see in @ONS bulletins \\n\\nMost research still reports on pre-#Omicron infections so we need to wait for a broader set of studies\\n\\nArticle covering this report from @TIME \\n\\nhttps://t.co/HRkF6ApGaU\",\n",
       " 'A conference abstract from the European Congress of Clinical Microbiology &amp; Infectious Diseases suggested that #Omicron infection causes much less #LongCovid than wild-type #SARSCoV2 \\n\\nExpert comments here including from @Daltmann10 \\n\\nhttps://t.co/rw17Sf2uqd',\n",
       " 'FGS @UKHSA pauses ONS C-19 Infection Survey 4 many months as govt decides whether to continue funding it. Scientists warn that the UK will be left “flying blind” without the survey, particularly if a new variant that is not related to Omicron emerges. https://t.co/Pzo0oxuPrx',\n",
       " '@SandraHelena39 Look on the bright side, Omicron is practically harmless, and you will have way stronger and longer immunity than any vaccine or booster could ever give you.',\n",
       " '@OMICRON_XBB Dream bigger',\n",
       " '@NOTSubzerodrew As my last wish',\n",
       " \"@thereal_truther @SadieXShaw Again, graphs are useless when definitions are faulty; namely, unvaccinated status. We can go back and forth all day long. Suffice it to say though, it’s a waste of time for both of us. And as omicron and xbb are far less deadly, it doesn't matter that much now, anyway. Good day\"]"
      ]
     },
     "execution_count": 8,
     "metadata": {},
     "output_type": "execute_result"
    }
   ],
   "source": [
    "df['tweets'][:10].tolist()"
   ]
  },
  {
   "cell_type": "code",
   "execution_count": 9,
   "metadata": {},
   "outputs": [
    {
     "data": {
      "image/png": "[encoded data removed]",
      "text/plain": [
       "<Figure size 1200x700 with 1 Axes>"
      ]
     },
     "metadata": {},
     "output_type": "display_data"
    }
   ],
   "source": [
    "# change to date time format\n",
    "df['time']=pd.to_datetime(df['time'])\n",
    "\n",
    "# tweets per hour\n",
    "tweets_per_hr = df['time'].dt.strftime('%H').value_counts().sort_index().to_frame(name='Count')\n",
    "tweets_per_hr['Hour']=tweets_per_hr.index\n",
    "\n",
    "# plot\n",
    "plt.figure(figsize=(12,7))\n",
    "ax=sns.barplot(x='Hour', y='Count',data=tweets_per_hr, edgecolor='grey')\n",
    "ax.bar_label(ax.containers[0])\n",
    "plt.title('Tweets per hour', size='xx-large')\n",
    "plt.show()"
   ]
  },
  {
   "cell_type": "code",
   "execution_count": 10,
   "metadata": {},
   "outputs": [
    {
     "name": "stderr",
     "output_type": "stream",
     "text": [
      "[nltk_data] Downloading package stopwords to\n",
      "[nltk_data]     C:\\Users\\Shivangi\\AppData\\Roaming\\nltk_data...\n",
      "[nltk_data]   Package stopwords is already up-to-date!\n"
     ]
    },
    {
     "data": {
      "text/plain": [
       "True"
      ]
     },
     "execution_count": 10,
     "metadata": {},
     "output_type": "execute_result"
    }
   ],
   "source": [
    "nltk.download('stopwords')"
   ]
  },
  {
   "cell_type": "code",
   "execution_count": 11,
   "metadata": {},
   "outputs": [],
   "source": [
    "tokenizer = ToktokTokenizer()\n",
    "stopwords_list = nltk.corpus.stopwords.words('english')"
   ]
  },
  {
   "cell_type": "code",
   "execution_count": 12,
   "metadata": {},
   "outputs": [],
   "source": [
    "pd.options.display.max_colwidth = 200"
   ]
  },
  {
   "cell_type": "code",
   "execution_count": 13,
   "metadata": {},
   "outputs": [],
   "source": [
    "data=df[['tweets','retweet_count']]"
   ]
  },
  {
   "cell_type": "code",
   "execution_count": 14,
   "metadata": {},
   "outputs": [
    {
     "data": {
      "text/html": [
       "<div>\n",
       "<style scoped>\n",
       "    .dataframe tbody tr th:only-of-type {\n",
       "        vertical-align: middle;\n",
       "    }\n",
       "\n",
       "    .dataframe tbody tr th {\n",
       "        vertical-align: top;\n",
       "    }\n",
       "\n",
       "    .dataframe thead th {\n",
       "        text-align: right;\n",
       "    }\n",
       "</style>\n",
       "<table border=\"1\" class=\"dataframe\">\n",
       "  <thead>\n",
       "    <tr style=\"text-align: right;\">\n",
       "      <th></th>\n",
       "      <th>tweets</th>\n",
       "      <th>retweet_count</th>\n",
       "    </tr>\n",
       "  </thead>\n",
       "  <tbody>\n",
       "    <tr>\n",
       "      <th>0</th>\n",
       "      <td>6 big questions about new Omicron-targeting boosters ... #Boosting #Target #targeting #boost https://t.co/9TWMuUXxJn</td>\n",
       "      <td>0</td>\n",
       "    </tr>\n",
       "    <tr>\n",
       "      <th>1</th>\n",
       "      <td>I'm confused https://t.co/NyfgdYUYAT</td>\n",
       "      <td>0</td>\n",
       "    </tr>\n",
       "    <tr>\n",
       "      <th>2</th>\n",
       "      <td>Long COVID less likely after Omicron than after original virus, Swiss ... - LabPulse https://t.co/v4u9QBo8hS</td>\n",
       "      <td>0</td>\n",
       "    </tr>\n",
       "    <tr>\n",
       "      <th>3</th>\n",
       "      <td>The finding don't tally with the high numbers we see in @ONS bulletins \\n\\nMost research still reports on pre-#Omicron infections so we need to wait for a broader set of studies\\n\\nArticle coverin...</td>\n",
       "      <td>0</td>\n",
       "    </tr>\n",
       "    <tr>\n",
       "      <th>4</th>\n",
       "      <td>A conference abstract from the European Congress of Clinical Microbiology &amp;amp; Infectious Diseases suggested that #Omicron infection causes much less #LongCovid than wild-type #SARSCoV2 \\n\\nExper...</td>\n",
       "      <td>1</td>\n",
       "    </tr>\n",
       "  </tbody>\n",
       "</table>\n",
       "</div>"
      ],
      "text/plain": [
       "                                                                                                                                                                                                    tweets  \\\n",
       "0                                                                                     6 big questions about new Omicron-targeting boosters ... #Boosting #Target #targeting #boost https://t.co/9TWMuUXxJn   \n",
       "1                                                                                                                                                                     I'm confused https://t.co/NyfgdYUYAT   \n",
       "2                                                                                             Long COVID less likely after Omicron than after original virus, Swiss ... - LabPulse https://t.co/v4u9QBo8hS   \n",
       "3  The finding don't tally with the high numbers we see in @ONS bulletins \\n\\nMost research still reports on pre-#Omicron infections so we need to wait for a broader set of studies\\n\\nArticle coverin...   \n",
       "4  A conference abstract from the European Congress of Clinical Microbiology &amp; Infectious Diseases suggested that #Omicron infection causes much less #LongCovid than wild-type #SARSCoV2 \\n\\nExper...   \n",
       "\n",
       "   retweet_count  \n",
       "0              0  \n",
       "1              0  \n",
       "2              0  \n",
       "3              0  \n",
       "4              1  "
      ]
     },
     "execution_count": 14,
     "metadata": {},
     "output_type": "execute_result"
    }
   ],
   "source": [
    "data.head()"
   ]
  },
  {
   "cell_type": "code",
   "execution_count": 15,
   "metadata": {},
   "outputs": [
    {
     "name": "stderr",
     "output_type": "stream",
     "text": [
      "[nltk_data] Downloading package wordnet to\n",
      "[nltk_data]     C:\\Users\\Shivangi\\AppData\\Roaming\\nltk_data...\n",
      "[nltk_data]   Package wordnet is already up-to-date!\n",
      "[nltk_data] Downloading package omw-1.4 to\n",
      "[nltk_data]     C:\\Users\\Shivangi\\AppData\\Roaming\\nltk_data...\n",
      "[nltk_data]   Package omw-1.4 is already up-to-date!\n",
      "[nltk_data] Downloading package stopwords to\n",
      "[nltk_data]     C:\\Users\\Shivangi\\AppData\\Roaming\\nltk_data...\n",
      "[nltk_data]   Package stopwords is already up-to-date!\n",
      "[nltk_data] Downloading package punkt to\n",
      "[nltk_data]     C:\\Users\\Shivangi\\AppData\\Roaming\\nltk_data...\n",
      "[nltk_data]   Package punkt is already up-to-date!\n"
     ]
    },
    {
     "data": {
      "text/plain": [
       "True"
      ]
     },
     "execution_count": 15,
     "metadata": {},
     "output_type": "execute_result"
    }
   ],
   "source": [
    "nltk.download('wordnet')\n",
    "nltk.download('omw-1.4')\n",
    "nltk.download('stopwords')\n",
    "nltk.download('punkt')"
   ]
  },
  {
   "cell_type": "markdown",
   "metadata": {},
   "source": [
    "<b>Perform Stemming or Lemmatization, comment on the different outputs.<br>\n",
    "Removing Outliers and Noise reduction</b>"
   ]
  },
  {
   "cell_type": "code",
   "execution_count": 16,
   "metadata": {},
   "outputs": [],
   "source": [
    "stemmer = PorterStemmer()\n",
    "leammatizer = WordNetLemmatizer()"
   ]
  },
  {
   "cell_type": "code",
   "execution_count": 17,
   "metadata": {},
   "outputs": [
    {
     "data": {
      "text/html": [
       "<div>\n",
       "<style scoped>\n",
       "    .dataframe tbody tr th:only-of-type {\n",
       "        vertical-align: middle;\n",
       "    }\n",
       "\n",
       "    .dataframe tbody tr th {\n",
       "        vertical-align: top;\n",
       "    }\n",
       "\n",
       "    .dataframe thead th {\n",
       "        text-align: right;\n",
       "    }\n",
       "</style>\n",
       "<table border=\"1\" class=\"dataframe\">\n",
       "  <thead>\n",
       "    <tr style=\"text-align: right;\">\n",
       "      <th></th>\n",
       "      <th>tweets</th>\n",
       "      <th>retweet_count</th>\n",
       "      <th>review</th>\n",
       "    </tr>\n",
       "  </thead>\n",
       "  <tbody>\n",
       "    <tr>\n",
       "      <th>0</th>\n",
       "      <td>6 big questions about new Omicron-targeting boosters ... #Boosting #Target #targeting #boost https://t.co/9TWMuUXxJn</td>\n",
       "      <td>0</td>\n",
       "      <td>6 big questions about new Omicron-targeting boosters ... #Boosting #Target #targeting #boost https:</td>\n",
       "    </tr>\n",
       "    <tr>\n",
       "      <th>1</th>\n",
       "      <td>I'm confused https://t.co/NyfgdYUYAT</td>\n",
       "      <td>0</td>\n",
       "      <td>I'm confused https:</td>\n",
       "    </tr>\n",
       "    <tr>\n",
       "      <th>2</th>\n",
       "      <td>Long COVID less likely after Omicron than after original virus, Swiss ... - LabPulse https://t.co/v4u9QBo8hS</td>\n",
       "      <td>0</td>\n",
       "      <td>Long COVID less likely after Omicron than after original virus, Swiss ... - LabPulse https:</td>\n",
       "    </tr>\n",
       "    <tr>\n",
       "      <th>3</th>\n",
       "      <td>The finding don't tally with the high numbers we see in @ONS bulletins \\n\\nMost research still reports on pre-#Omicron infections so we need to wait for a broader set of studies\\n\\nArticle coverin...</td>\n",
       "      <td>0</td>\n",
       "      <td>The finding don't tally with the high numbers we see in  bulletins \\n\\nMost research still reports on pre-#Omicron infections so we need to wait for a broader set of studies\\n\\nArticle covering th...</td>\n",
       "    </tr>\n",
       "    <tr>\n",
       "      <th>4</th>\n",
       "      <td>A conference abstract from the European Congress of Clinical Microbiology &amp;amp; Infectious Diseases suggested that #Omicron infection causes much less #LongCovid than wild-type #SARSCoV2 \\n\\nExper...</td>\n",
       "      <td>1</td>\n",
       "      <td>A conference abstract from the European Congress of Clinical Microbiology &amp; Infectious Diseases suggested that #Omicron infection causes much less #LongCovid than wild-type #SARSCoV2 \\n\\nExpert co...</td>\n",
       "    </tr>\n",
       "  </tbody>\n",
       "</table>\n",
       "</div>"
      ],
      "text/plain": [
       "                                                                                                                                                                                                    tweets  \\\n",
       "0                                                                                     6 big questions about new Omicron-targeting boosters ... #Boosting #Target #targeting #boost https://t.co/9TWMuUXxJn   \n",
       "1                                                                                                                                                                     I'm confused https://t.co/NyfgdYUYAT   \n",
       "2                                                                                             Long COVID less likely after Omicron than after original virus, Swiss ... - LabPulse https://t.co/v4u9QBo8hS   \n",
       "3  The finding don't tally with the high numbers we see in @ONS bulletins \\n\\nMost research still reports on pre-#Omicron infections so we need to wait for a broader set of studies\\n\\nArticle coverin...   \n",
       "4  A conference abstract from the European Congress of Clinical Microbiology &amp; Infectious Diseases suggested that #Omicron infection causes much less #LongCovid than wild-type #SARSCoV2 \\n\\nExper...   \n",
       "\n",
       "   retweet_count  \\\n",
       "0              0   \n",
       "1              0   \n",
       "2              0   \n",
       "3              0   \n",
       "4              1   \n",
       "\n",
       "                                                                                                                                                                                                    review  \n",
       "0                                                                                                      6 big questions about new Omicron-targeting boosters ... #Boosting #Target #targeting #boost https:  \n",
       "1                                                                                                                                                                                      I'm confused https:  \n",
       "2                                                                                                              Long COVID less likely after Omicron than after original virus, Swiss ... - LabPulse https:  \n",
       "3  The finding don't tally with the high numbers we see in  bulletins \\n\\nMost research still reports on pre-#Omicron infections so we need to wait for a broader set of studies\\n\\nArticle covering th...  \n",
       "4  A conference abstract from the European Congress of Clinical Microbiology & Infectious Diseases suggested that #Omicron infection causes much less #LongCovid than wild-type #SARSCoV2 \\n\\nExpert co...  "
      ]
     },
     "execution_count": 17,
     "metadata": {},
     "output_type": "execute_result"
    }
   ],
   "source": [
    "def remove_html(text):\n",
    "    return re.sub(r':.*$', \":\",text) #Remove urls\n",
    "\n",
    "def remove_tags(text):\n",
    "  return re.sub('@[A-Za-z0-9-]+([A-Z|a-z])','',text)\n",
    "\n",
    "def strip_html(text):\n",
    "    soup = BeautifulSoup(text,\"html.parser\") #Remove https words\n",
    "    return soup.get_text()\n",
    "\n",
    "def remove_between_square_brackets(text):\n",
    "    return re.sub('\\[[^]]*\\]','',text)   #Remove special characters\n",
    "\n",
    "def denoise_text(text):\n",
    "    text = remove_html(text)\n",
    "    text = strip_html(text)\n",
    "    text = remove_between_square_brackets(text)\n",
    "    text = remove_tags(text)\n",
    "    return text  #Function call\n",
    "  \n",
    "data['review'] = data['tweets'].apply(denoise_text)\n",
    "data.head(5)"
   ]
  },
  {
   "cell_type": "markdown",
   "metadata": {},
   "source": [
    "<b> Removing Special Characters </b>"
   ]
  },
  {
   "cell_type": "code",
   "execution_count": 24,
   "metadata": {},
   "outputs": [
    {
     "data": {
      "text/html": [
       "<div>\n",
       "<style scoped>\n",
       "    .dataframe tbody tr th:only-of-type {\n",
       "        vertical-align: middle;\n",
       "    }\n",
       "\n",
       "    .dataframe tbody tr th {\n",
       "        vertical-align: top;\n",
       "    }\n",
       "\n",
       "    .dataframe thead th {\n",
       "        text-align: right;\n",
       "    }\n",
       "</style>\n",
       "<table border=\"1\" class=\"dataframe\">\n",
       "  <thead>\n",
       "    <tr style=\"text-align: right;\">\n",
       "      <th></th>\n",
       "      <th>tweets</th>\n",
       "      <th>retweet_count</th>\n",
       "      <th>review</th>\n",
       "    </tr>\n",
       "  </thead>\n",
       "  <tbody>\n",
       "    <tr>\n",
       "      <th>0</th>\n",
       "      <td>6 big questions about new Omicron-targeting boosters ... #Boosting #Target #targeting #boost https://t.co/9TWMuUXxJn</td>\n",
       "      <td>0</td>\n",
       "      <td>6 big questions about new Omicrontargeting boosters  Boosting Target targeting boost https</td>\n",
       "    </tr>\n",
       "    <tr>\n",
       "      <th>1</th>\n",
       "      <td>I'm confused https://t.co/NyfgdYUYAT</td>\n",
       "      <td>0</td>\n",
       "      <td>Im confused https</td>\n",
       "    </tr>\n",
       "  </tbody>\n",
       "</table>\n",
       "</div>"
      ],
      "text/plain": [
       "                                                                                                                 tweets  \\\n",
       "0  6 big questions about new Omicron-targeting boosters ... #Boosting #Target #targeting #boost https://t.co/9TWMuUXxJn   \n",
       "1                                                                                  I'm confused https://t.co/NyfgdYUYAT   \n",
       "\n",
       "   retweet_count  \\\n",
       "0              0   \n",
       "1              0   \n",
       "\n",
       "                                                                                       review  \n",
       "0  6 big questions about new Omicrontargeting boosters  Boosting Target targeting boost https  \n",
       "1                                                                           Im confused https  "
      ]
     },
     "execution_count": 24,
     "metadata": {},
     "output_type": "execute_result"
    }
   ],
   "source": [
    "def remove_special_characters(text,remove_digits=True):\n",
    "    url_pattern = r'https?://\\S+|www\\.\\S+'\n",
    "    # Replace URLs with an empty string\n",
    "    text = re.sub(url_pattern, '', text)\n",
    "    \n",
    "    # Define the pattern to match special characters\n",
    "    pattern = r'[^a-zA-Z0-9\\s]'\n",
    "    # Replace special characters (and digits if remove_digits is True) with an empty string\n",
    "    if remove_digits:\n",
    "        text = re.sub(pattern, '', text)\n",
    "    else:\n",
    "        text = re.sub(pattern, '', text)\n",
    "    return text\n",
    "\n",
    "data['review'] = data['review'].apply(remove_special_characters)\n",
    "data.head(2)"
   ]
  },
  {
   "cell_type": "markdown",
   "metadata": {},
   "source": [
    "Stemming"
   ]
  },
  {
   "cell_type": "code",
   "execution_count": 25,
   "metadata": {},
   "outputs": [
    {
     "data": {
      "text/html": [
       "<div>\n",
       "<style scoped>\n",
       "    .dataframe tbody tr th:only-of-type {\n",
       "        vertical-align: middle;\n",
       "    }\n",
       "\n",
       "    .dataframe tbody tr th {\n",
       "        vertical-align: top;\n",
       "    }\n",
       "\n",
       "    .dataframe thead th {\n",
       "        text-align: right;\n",
       "    }\n",
       "</style>\n",
       "<table border=\"1\" class=\"dataframe\">\n",
       "  <thead>\n",
       "    <tr style=\"text-align: right;\">\n",
       "      <th></th>\n",
       "      <th>tweets</th>\n",
       "      <th>retweet_count</th>\n",
       "      <th>review</th>\n",
       "      <th>stem_review</th>\n",
       "    </tr>\n",
       "  </thead>\n",
       "  <tbody>\n",
       "    <tr>\n",
       "      <th>0</th>\n",
       "      <td>6 big questions about new Omicron-targeting boosters ... #Boosting #Target #targeting #boost https://t.co/9TWMuUXxJn</td>\n",
       "      <td>0</td>\n",
       "      <td>6 big questions about new Omicrontargeting boosters  Boosting Target targeting boost https</td>\n",
       "      <td>6 big question about new omicrontarget booster boost target target boost http</td>\n",
       "    </tr>\n",
       "    <tr>\n",
       "      <th>1</th>\n",
       "      <td>I'm confused https://t.co/NyfgdYUYAT</td>\n",
       "      <td>0</td>\n",
       "      <td>Im confused https</td>\n",
       "      <td>im confus http</td>\n",
       "    </tr>\n",
       "    <tr>\n",
       "      <th>2</th>\n",
       "      <td>Long COVID less likely after Omicron than after original virus, Swiss ... - LabPulse https://t.co/v4u9QBo8hS</td>\n",
       "      <td>0</td>\n",
       "      <td>Long COVID less likely after Omicron than after original virus Swiss   LabPulse https</td>\n",
       "      <td>long covid less like after omicron than after origin viru swiss labpuls http</td>\n",
       "    </tr>\n",
       "    <tr>\n",
       "      <th>3</th>\n",
       "      <td>The finding don't tally with the high numbers we see in @ONS bulletins \\n\\nMost research still reports on pre-#Omicron infections so we need to wait for a broader set of studies\\n\\nArticle coverin...</td>\n",
       "      <td>0</td>\n",
       "      <td>The finding dont tally with the high numbers we see in  bulletins \\n\\nMost research still reports on preOmicron infections so we need to wait for a broader set of studies\\n\\nArticle covering this ...</td>\n",
       "      <td>the find dont talli with the high number we see in bulletin most research still report on preomicron infect so we need to wait for a broader set of studi articl cover thi report from http</td>\n",
       "    </tr>\n",
       "    <tr>\n",
       "      <th>4</th>\n",
       "      <td>A conference abstract from the European Congress of Clinical Microbiology &amp;amp; Infectious Diseases suggested that #Omicron infection causes much less #LongCovid than wild-type #SARSCoV2 \\n\\nExper...</td>\n",
       "      <td>1</td>\n",
       "      <td>A conference abstract from the European Congress of Clinical Microbiology  Infectious Diseases suggested that Omicron infection causes much less LongCovid than wildtype SARSCoV2 \\n\\nExpert comment...</td>\n",
       "      <td>a confer abstract from the european congress of clinic microbiolog infecti diseas suggest that omicron infect caus much less longcovid than wildtyp sarscov2 expert comment here includ from 10 http</td>\n",
       "    </tr>\n",
       "  </tbody>\n",
       "</table>\n",
       "</div>"
      ],
      "text/plain": [
       "                                                                                                                                                                                                    tweets  \\\n",
       "0                                                                                     6 big questions about new Omicron-targeting boosters ... #Boosting #Target #targeting #boost https://t.co/9TWMuUXxJn   \n",
       "1                                                                                                                                                                     I'm confused https://t.co/NyfgdYUYAT   \n",
       "2                                                                                             Long COVID less likely after Omicron than after original virus, Swiss ... - LabPulse https://t.co/v4u9QBo8hS   \n",
       "3  The finding don't tally with the high numbers we see in @ONS bulletins \\n\\nMost research still reports on pre-#Omicron infections so we need to wait for a broader set of studies\\n\\nArticle coverin...   \n",
       "4  A conference abstract from the European Congress of Clinical Microbiology &amp; Infectious Diseases suggested that #Omicron infection causes much less #LongCovid than wild-type #SARSCoV2 \\n\\nExper...   \n",
       "\n",
       "   retweet_count  \\\n",
       "0              0   \n",
       "1              0   \n",
       "2              0   \n",
       "3              0   \n",
       "4              1   \n",
       "\n",
       "                                                                                                                                                                                                    review  \\\n",
       "0                                                                                                               6 big questions about new Omicrontargeting boosters  Boosting Target targeting boost https   \n",
       "1                                                                                                                                                                                        Im confused https   \n",
       "2                                                                                                                    Long COVID less likely after Omicron than after original virus Swiss   LabPulse https   \n",
       "3  The finding dont tally with the high numbers we see in  bulletins \\n\\nMost research still reports on preOmicron infections so we need to wait for a broader set of studies\\n\\nArticle covering this ...   \n",
       "4  A conference abstract from the European Congress of Clinical Microbiology  Infectious Diseases suggested that Omicron infection causes much less LongCovid than wildtype SARSCoV2 \\n\\nExpert comment...   \n",
       "\n",
       "                                                                                                                                                                                            stem_review  \n",
       "0                                                                                                                         6 big question about new omicrontarget booster boost target target boost http  \n",
       "1                                                                                                                                                                                        im confus http  \n",
       "2                                                                                                                          long covid less like after omicron than after origin viru swiss labpuls http  \n",
       "3           the find dont talli with the high number we see in bulletin most research still report on preomicron infect so we need to wait for a broader set of studi articl cover thi report from http  \n",
       "4  a confer abstract from the european congress of clinic microbiolog infecti diseas suggest that omicron infect caus much less longcovid than wildtyp sarscov2 expert comment here includ from 10 http  "
      ]
     },
     "execution_count": 25,
     "metadata": {},
     "output_type": "execute_result"
    }
   ],
   "source": [
    "def simpleStemmer(text):\n",
    "    ps = nltk.porter.PorterStemmer()\n",
    "    text = ' '.join([ps.stem(word) for word in text.split()])\n",
    "    return text\n",
    "\n",
    "data['stem_review'] = data['review'].apply(simpleStemmer)\n",
    "data.head()"
   ]
  },
  {
   "cell_type": "markdown",
   "metadata": {},
   "source": [
    "Lemmatization"
   ]
  },
  {
   "cell_type": "code",
   "execution_count": 26,
   "metadata": {},
   "outputs": [
    {
     "data": {
      "text/html": [
       "<div>\n",
       "<style scoped>\n",
       "    .dataframe tbody tr th:only-of-type {\n",
       "        vertical-align: middle;\n",
       "    }\n",
       "\n",
       "    .dataframe tbody tr th {\n",
       "        vertical-align: top;\n",
       "    }\n",
       "\n",
       "    .dataframe thead th {\n",
       "        text-align: right;\n",
       "    }\n",
       "</style>\n",
       "<table border=\"1\" class=\"dataframe\">\n",
       "  <thead>\n",
       "    <tr style=\"text-align: right;\">\n",
       "      <th></th>\n",
       "      <th>tweets</th>\n",
       "      <th>retweet_count</th>\n",
       "      <th>review</th>\n",
       "      <th>stem_review</th>\n",
       "      <th>lemmatize_review</th>\n",
       "    </tr>\n",
       "  </thead>\n",
       "  <tbody>\n",
       "    <tr>\n",
       "      <th>0</th>\n",
       "      <td>6 big questions about new Omicron-targeting boosters ... #Boosting #Target #targeting #boost https://t.co/9TWMuUXxJn</td>\n",
       "      <td>0</td>\n",
       "      <td>6 big questions about new Omicrontargeting boosters  Boosting Target targeting boost https</td>\n",
       "      <td>6 big question about new omicrontarget booster boost target target boost http</td>\n",
       "      <td>6 big question about new Omicrontargeting booster Boosting Target targeting boost http</td>\n",
       "    </tr>\n",
       "    <tr>\n",
       "      <th>1</th>\n",
       "      <td>I'm confused https://t.co/NyfgdYUYAT</td>\n",
       "      <td>0</td>\n",
       "      <td>Im confused https</td>\n",
       "      <td>im confus http</td>\n",
       "      <td>Im confused http</td>\n",
       "    </tr>\n",
       "  </tbody>\n",
       "</table>\n",
       "</div>"
      ],
      "text/plain": [
       "                                                                                                                 tweets  \\\n",
       "0  6 big questions about new Omicron-targeting boosters ... #Boosting #Target #targeting #boost https://t.co/9TWMuUXxJn   \n",
       "1                                                                                  I'm confused https://t.co/NyfgdYUYAT   \n",
       "\n",
       "   retweet_count  \\\n",
       "0              0   \n",
       "1              0   \n",
       "\n",
       "                                                                                       review  \\\n",
       "0  6 big questions about new Omicrontargeting boosters  Boosting Target targeting boost https   \n",
       "1                                                                           Im confused https   \n",
       "\n",
       "                                                                     stem_review  \\\n",
       "0  6 big question about new omicrontarget booster boost target target boost http   \n",
       "1                                                                 im confus http   \n",
       "\n",
       "                                                                         lemmatize_review  \n",
       "0  6 big question about new Omicrontargeting booster Boosting Target targeting boost http  \n",
       "1                                                                        Im confused http  "
      ]
     },
     "execution_count": 26,
     "metadata": {},
     "output_type": "execute_result"
    }
   ],
   "source": [
    "def simpleLemmatization(text):\n",
    "    lemma = nltk.stem.WordNetLemmatizer()\n",
    "    text = ' '.join([lemma.lemmatize(word) for word in text.split()])\n",
    "    return text\n",
    "\n",
    "data['lemmatize_review'] = data['review'].apply(simpleLemmatization)\n",
    "data.head(2)"
   ]
  },
  {
   "cell_type": "code",
   "execution_count": 27,
   "metadata": {},
   "outputs": [
    {
     "data": {
      "text/html": [
       "<div>\n",
       "<style scoped>\n",
       "    .dataframe tbody tr th:only-of-type {\n",
       "        vertical-align: middle;\n",
       "    }\n",
       "\n",
       "    .dataframe tbody tr th {\n",
       "        vertical-align: top;\n",
       "    }\n",
       "\n",
       "    .dataframe thead th {\n",
       "        text-align: right;\n",
       "    }\n",
       "</style>\n",
       "<table border=\"1\" class=\"dataframe\">\n",
       "  <thead>\n",
       "    <tr style=\"text-align: right;\">\n",
       "      <th></th>\n",
       "      <th>tweets</th>\n",
       "      <th>retweet_count</th>\n",
       "      <th>review</th>\n",
       "      <th>stem_review</th>\n",
       "      <th>lemmatize_review</th>\n",
       "      <th>final_review</th>\n",
       "    </tr>\n",
       "  </thead>\n",
       "  <tbody>\n",
       "    <tr>\n",
       "      <th>0</th>\n",
       "      <td>6 big questions about new Omicron-targeting boosters ... #Boosting #Target #targeting #boost https://t.co/9TWMuUXxJn</td>\n",
       "      <td>0</td>\n",
       "      <td>6 big questions about new Omicrontargeting boosters  Boosting Target targeting boost https</td>\n",
       "      <td>6 big question about new omicrontarget booster boost target target boost http</td>\n",
       "      <td>6 big question about new Omicrontargeting booster Boosting Target targeting boost http</td>\n",
       "      <td>6 big questions new Omicrontargeting boosters Boosting Target targeting boost https</td>\n",
       "    </tr>\n",
       "    <tr>\n",
       "      <th>1</th>\n",
       "      <td>I'm confused https://t.co/NyfgdYUYAT</td>\n",
       "      <td>0</td>\n",
       "      <td>Im confused https</td>\n",
       "      <td>im confus http</td>\n",
       "      <td>Im confused http</td>\n",
       "      <td>Im confused https</td>\n",
       "    </tr>\n",
       "  </tbody>\n",
       "</table>\n",
       "</div>"
      ],
      "text/plain": [
       "                                                                                                                 tweets  \\\n",
       "0  6 big questions about new Omicron-targeting boosters ... #Boosting #Target #targeting #boost https://t.co/9TWMuUXxJn   \n",
       "1                                                                                  I'm confused https://t.co/NyfgdYUYAT   \n",
       "\n",
       "   retweet_count  \\\n",
       "0              0   \n",
       "1              0   \n",
       "\n",
       "                                                                                       review  \\\n",
       "0  6 big questions about new Omicrontargeting boosters  Boosting Target targeting boost https   \n",
       "1                                                                           Im confused https   \n",
       "\n",
       "                                                                     stem_review  \\\n",
       "0  6 big question about new omicrontarget booster boost target target boost http   \n",
       "1                                                                 im confus http   \n",
       "\n",
       "                                                                         lemmatize_review  \\\n",
       "0  6 big question about new Omicrontargeting booster Boosting Target targeting boost http   \n",
       "1                                                                        Im confused http   \n",
       "\n",
       "                                                                          final_review  \n",
       "0  6 big questions new Omicrontargeting boosters Boosting Target targeting boost https  \n",
       "1                                                                    Im confused https  "
      ]
     },
     "execution_count": 27,
     "metadata": {},
     "output_type": "execute_result"
    }
   ],
   "source": [
    "stopwords = nltk.corpus.stopwords.words('english')\n",
    "\n",
    "def remove_stopwords(text,is_lower_case=False):\n",
    "    tokens = tokenizer.tokenize(text)\n",
    "    tokens = [token.strip() for token in tokens]\n",
    "    if is_lower_case:\n",
    "        filtered_tokens = [token for token in tokens if token not in stopwords_list]\n",
    "    else:\n",
    "        filtered_tokens = [token for token in tokens if token.lower() not in stopwords_list]\n",
    "    filtered_text = ' '.join(filtered_tokens)\n",
    "    return filtered_text\n",
    "\n",
    "data['final_review'] = data['review'].apply(remove_stopwords)\n",
    "data.head(2)"
   ]
  },
  {
   "cell_type": "markdown",
   "metadata": {},
   "source": [
    "Normalised Train and Test reviews"
   ]
  },
  {
   "cell_type": "code",
   "execution_count": 28,
   "metadata": {},
   "outputs": [
    {
     "data": {
      "text/plain": [
       "(6998, 6)"
      ]
     },
     "execution_count": 28,
     "metadata": {},
     "output_type": "execute_result"
    }
   ],
   "source": [
    "data.shape"
   ]
  },
  {
   "cell_type": "code",
   "execution_count": 29,
   "metadata": {},
   "outputs": [
    {
     "name": "stdout",
     "output_type": "stream",
     "text": [
      "6 big questions new Omicrontargeting boosters Boosting Target targeting boost https\n",
      "10 5 last one Dec omicron one reactions shots Ireceived would skipped 4th thought omicron would really delayed\n"
     ]
    }
   ],
   "source": [
    "norm_train_reviews = data.final_review[:5000]\n",
    "print(norm_train_reviews[0])\n",
    "\n",
    "norm_test_reviews=data.final_review[5001:]\n",
    "print(norm_test_reviews[6000])"
   ]
  },
  {
   "cell_type": "markdown",
   "metadata": {},
   "source": [
    "Bag Of Words"
   ]
  },
  {
   "cell_type": "code",
   "execution_count": 30,
   "metadata": {},
   "outputs": [
    {
     "name": "stdout",
     "output_type": "stream",
     "text": [
      "BOW_cv_train: (5000, 114455)\n",
      "BOW_cv_test: (1997, 114455)\n"
     ]
    }
   ],
   "source": [
    "cv = CountVectorizer(min_df=0.0,max_df=1,binary=False,ngram_range=(1,3))\n",
    "cv_train_reviews = cv.fit_transform(norm_train_reviews)\n",
    "cv_test_reviews = cv.transform(norm_test_reviews)\n",
    "\n",
    "print('BOW_cv_train:',cv_train_reviews.shape)\n",
    "print('BOW_cv_test:',cv_test_reviews.shape)"
   ]
  },
  {
   "cell_type": "code",
   "execution_count": 31,
   "metadata": {},
   "outputs": [
    {
     "data": {
      "text/plain": [
       "<1x114455 sparse matrix of type '<class 'numpy.int64'>'\n",
       "\twith 3 stored elements in Compressed Sparse Row format>"
      ]
     },
     "execution_count": 31,
     "metadata": {},
     "output_type": "execute_result"
    }
   ],
   "source": [
    "cv_train_reviews[1]"
   ]
  },
  {
   "cell_type": "code",
   "execution_count": 32,
   "metadata": {},
   "outputs": [
    {
     "data": {
      "text/plain": [
       "array([[0, 0, 0, ..., 0, 0, 0]], dtype=int64)"
      ]
     },
     "execution_count": 32,
     "metadata": {},
     "output_type": "execute_result"
    }
   ],
   "source": [
    "cv_train_reviews[1].toarray()"
   ]
  },
  {
   "cell_type": "markdown",
   "metadata": {},
   "source": [
    "<b> Term Frequency and Inverse Document Frequency<b> "
   ]
  },
  {
   "cell_type": "code",
   "execution_count": 33,
   "metadata": {},
   "outputs": [
    {
     "name": "stdout",
     "output_type": "stream",
     "text": [
      "Tfidf_train: (5000, 114455)\n",
      "Tfidf_test: (1997, 114455)\n"
     ]
    }
   ],
   "source": [
    "tv = TfidfVectorizer(min_df=0.0,max_df=1,use_idf=True,ngram_range=(1,3))\n",
    "tv_train_reviews = tv.fit_transform(norm_train_reviews)\n",
    "tv_test_reviews=tv.transform(norm_test_reviews)\n",
    "\n",
    "\n",
    "print('Tfidf_train:',tv_train_reviews.shape)\n",
    "print('Tfidf_test:',tv_test_reviews.shape)"
   ]
  },
  {
   "cell_type": "markdown",
   "metadata": {},
   "source": [
    "<b> Polarity and Subjectivity </b>"
   ]
  },
  {
   "cell_type": "code",
   "execution_count": 34,
   "metadata": {},
   "outputs": [
    {
     "data": {
      "text/html": [
       "<div>\n",
       "<style scoped>\n",
       "    .dataframe tbody tr th:only-of-type {\n",
       "        vertical-align: middle;\n",
       "    }\n",
       "\n",
       "    .dataframe tbody tr th {\n",
       "        vertical-align: top;\n",
       "    }\n",
       "\n",
       "    .dataframe thead th {\n",
       "        text-align: right;\n",
       "    }\n",
       "</style>\n",
       "<table border=\"1\" class=\"dataframe\">\n",
       "  <thead>\n",
       "    <tr style=\"text-align: right;\">\n",
       "      <th></th>\n",
       "      <th>tweets</th>\n",
       "      <th>retweet_count</th>\n",
       "      <th>review</th>\n",
       "      <th>stem_review</th>\n",
       "      <th>lemmatize_review</th>\n",
       "      <th>final_review</th>\n",
       "      <th>polarity</th>\n",
       "      <th>subjectivity</th>\n",
       "    </tr>\n",
       "  </thead>\n",
       "  <tbody>\n",
       "    <tr>\n",
       "      <th>0</th>\n",
       "      <td>6 big questions about new Omicron-targeting boosters ... #Boosting #Target #targeting #boost https://t.co/9TWMuUXxJn</td>\n",
       "      <td>0</td>\n",
       "      <td>6 big questions about new Omicrontargeting boosters  Boosting Target targeting boost https</td>\n",
       "      <td>6 big question about new omicrontarget booster boost target target boost http</td>\n",
       "      <td>6 big question about new Omicrontargeting booster Boosting Target targeting boost http</td>\n",
       "      <td>6 big questions new Omicrontargeting boosters Boosting Target targeting boost https</td>\n",
       "      <td>0.068182</td>\n",
       "      <td>0.277273</td>\n",
       "    </tr>\n",
       "    <tr>\n",
       "      <th>1</th>\n",
       "      <td>I'm confused https://t.co/NyfgdYUYAT</td>\n",
       "      <td>0</td>\n",
       "      <td>Im confused https</td>\n",
       "      <td>im confus http</td>\n",
       "      <td>Im confused http</td>\n",
       "      <td>Im confused https</td>\n",
       "      <td>-0.400000</td>\n",
       "      <td>0.700000</td>\n",
       "    </tr>\n",
       "  </tbody>\n",
       "</table>\n",
       "</div>"
      ],
      "text/plain": [
       "                                                                                                                 tweets  \\\n",
       "0  6 big questions about new Omicron-targeting boosters ... #Boosting #Target #targeting #boost https://t.co/9TWMuUXxJn   \n",
       "1                                                                                  I'm confused https://t.co/NyfgdYUYAT   \n",
       "\n",
       "   retweet_count  \\\n",
       "0              0   \n",
       "1              0   \n",
       "\n",
       "                                                                                       review  \\\n",
       "0  6 big questions about new Omicrontargeting boosters  Boosting Target targeting boost https   \n",
       "1                                                                           Im confused https   \n",
       "\n",
       "                                                                     stem_review  \\\n",
       "0  6 big question about new omicrontarget booster boost target target boost http   \n",
       "1                                                                 im confus http   \n",
       "\n",
       "                                                                         lemmatize_review  \\\n",
       "0  6 big question about new Omicrontargeting booster Boosting Target targeting boost http   \n",
       "1                                                                        Im confused http   \n",
       "\n",
       "                                                                          final_review  \\\n",
       "0  6 big questions new Omicrontargeting boosters Boosting Target targeting boost https   \n",
       "1                                                                    Im confused https   \n",
       "\n",
       "   polarity  subjectivity  \n",
       "0  0.068182      0.277273  \n",
       "1 -0.400000      0.700000  "
      ]
     },
     "execution_count": 34,
     "metadata": {},
     "output_type": "execute_result"
    }
   ],
   "source": [
    "pol = lambda x:TextBlob(x).sentiment.polarity\n",
    "sub = lambda x:TextBlob(x).sentiment.subjectivity\n",
    "\n",
    "data['polarity'] = data['final_review'].apply(pol)\n",
    "data['subjectivity'] = data['final_review'].apply(sub)\n",
    "\n",
    "data.head(2)"
   ]
  },
  {
   "cell_type": "code",
   "execution_count": 35,
   "metadata": {},
   "outputs": [
    {
     "data": {
      "text/html": [
       "<div>\n",
       "<style scoped>\n",
       "    .dataframe tbody tr th:only-of-type {\n",
       "        vertical-align: middle;\n",
       "    }\n",
       "\n",
       "    .dataframe tbody tr th {\n",
       "        vertical-align: top;\n",
       "    }\n",
       "\n",
       "    .dataframe thead th {\n",
       "        text-align: right;\n",
       "    }\n",
       "</style>\n",
       "<table border=\"1\" class=\"dataframe\">\n",
       "  <thead>\n",
       "    <tr style=\"text-align: right;\">\n",
       "      <th></th>\n",
       "      <th>tweets</th>\n",
       "      <th>retweet_count</th>\n",
       "      <th>review</th>\n",
       "      <th>stem_review</th>\n",
       "      <th>lemmatize_review</th>\n",
       "      <th>final_review</th>\n",
       "      <th>polarity</th>\n",
       "      <th>subjectivity</th>\n",
       "      <th>tokenize</th>\n",
       "    </tr>\n",
       "  </thead>\n",
       "  <tbody>\n",
       "    <tr>\n",
       "      <th>0</th>\n",
       "      <td>6 big questions about new Omicron-targeting boosters ... #Boosting #Target #targeting #boost https://t.co/9TWMuUXxJn</td>\n",
       "      <td>0</td>\n",
       "      <td>6 big questions about new Omicrontargeting boosters  Boosting Target targeting boost https</td>\n",
       "      <td>6 big question about new omicrontarget booster boost target target boost http</td>\n",
       "      <td>6 big question about new Omicrontargeting booster Boosting Target targeting boost http</td>\n",
       "      <td>6 big questions new Omicrontargeting boosters Boosting Target targeting boost https</td>\n",
       "      <td>0.068182</td>\n",
       "      <td>0.277273</td>\n",
       "      <td>[6, big, questions, new, Omicrontargeting, boosters, Boosting, Target, targeting, boost, https]</td>\n",
       "    </tr>\n",
       "    <tr>\n",
       "      <th>1</th>\n",
       "      <td>I'm confused https://t.co/NyfgdYUYAT</td>\n",
       "      <td>0</td>\n",
       "      <td>Im confused https</td>\n",
       "      <td>im confus http</td>\n",
       "      <td>Im confused http</td>\n",
       "      <td>Im confused https</td>\n",
       "      <td>-0.400000</td>\n",
       "      <td>0.700000</td>\n",
       "      <td>[Im, confused, https]</td>\n",
       "    </tr>\n",
       "  </tbody>\n",
       "</table>\n",
       "</div>"
      ],
      "text/plain": [
       "                                                                                                                 tweets  \\\n",
       "0  6 big questions about new Omicron-targeting boosters ... #Boosting #Target #targeting #boost https://t.co/9TWMuUXxJn   \n",
       "1                                                                                  I'm confused https://t.co/NyfgdYUYAT   \n",
       "\n",
       "   retweet_count  \\\n",
       "0              0   \n",
       "1              0   \n",
       "\n",
       "                                                                                       review  \\\n",
       "0  6 big questions about new Omicrontargeting boosters  Boosting Target targeting boost https   \n",
       "1                                                                           Im confused https   \n",
       "\n",
       "                                                                     stem_review  \\\n",
       "0  6 big question about new omicrontarget booster boost target target boost http   \n",
       "1                                                                 im confus http   \n",
       "\n",
       "                                                                         lemmatize_review  \\\n",
       "0  6 big question about new Omicrontargeting booster Boosting Target targeting boost http   \n",
       "1                                                                        Im confused http   \n",
       "\n",
       "                                                                          final_review  \\\n",
       "0  6 big questions new Omicrontargeting boosters Boosting Target targeting boost https   \n",
       "1                                                                    Im confused https   \n",
       "\n",
       "   polarity  subjectivity  \\\n",
       "0  0.068182      0.277273   \n",
       "1 -0.400000      0.700000   \n",
       "\n",
       "                                                                                          tokenize  \n",
       "0  [6, big, questions, new, Omicrontargeting, boosters, Boosting, Target, targeting, boost, https]  \n",
       "1                                                                            [Im, confused, https]  "
      ]
     },
     "execution_count": 35,
     "metadata": {},
     "output_type": "execute_result"
    }
   ],
   "source": [
    "tok = lambda x:word_tokenize(x)\n",
    "data['tokenize'] = data['final_review'].apply(tok)\n",
    "data.head(2)"
   ]
  },
  {
   "cell_type": "code",
   "execution_count": 36,
   "metadata": {},
   "outputs": [],
   "source": [
    "import itertools,collections\n",
    "\n",
    "new_tokenize = data['tokenize']\n",
    "all_words = list(itertools.chain(*new_tokenize))"
   ]
  },
  {
   "cell_type": "code",
   "execution_count": 37,
   "metadata": {},
   "outputs": [
    {
     "data": {
      "text/html": [
       "<div>\n",
       "<style scoped>\n",
       "    .dataframe tbody tr th:only-of-type {\n",
       "        vertical-align: middle;\n",
       "    }\n",
       "\n",
       "    .dataframe tbody tr th {\n",
       "        vertical-align: top;\n",
       "    }\n",
       "\n",
       "    .dataframe thead th {\n",
       "        text-align: right;\n",
       "    }\n",
       "</style>\n",
       "<table border=\"1\" class=\"dataframe\">\n",
       "  <thead>\n",
       "    <tr style=\"text-align: right;\">\n",
       "      <th></th>\n",
       "      <th>words</th>\n",
       "      <th>count</th>\n",
       "    </tr>\n",
       "  </thead>\n",
       "  <tbody>\n",
       "    <tr>\n",
       "      <th>0</th>\n",
       "      <td>Omicron</td>\n",
       "      <td>4309</td>\n",
       "    </tr>\n",
       "    <tr>\n",
       "      <th>1</th>\n",
       "      <td>https</td>\n",
       "      <td>2473</td>\n",
       "    </tr>\n",
       "    <tr>\n",
       "      <th>2</th>\n",
       "      <td>omicron</td>\n",
       "      <td>1839</td>\n",
       "    </tr>\n",
       "    <tr>\n",
       "      <th>3</th>\n",
       "      <td>variant</td>\n",
       "      <td>818</td>\n",
       "    </tr>\n",
       "    <tr>\n",
       "      <th>4</th>\n",
       "      <td>people</td>\n",
       "      <td>577</td>\n",
       "    </tr>\n",
       "  </tbody>\n",
       "</table>\n",
       "</div>"
      ],
      "text/plain": [
       "     words  count\n",
       "0  Omicron   4309\n",
       "1    https   2473\n",
       "2  omicron   1839\n",
       "3  variant    818\n",
       "4   people    577"
      ]
     },
     "execution_count": 37,
     "metadata": {},
     "output_type": "execute_result"
    }
   ],
   "source": [
    "counts = collections.Counter(all_words)\n",
    "count_frequency = counts.most_common(200)\n",
    "\n",
    "clean_tweets = pd.DataFrame(counts.most_common(200),columns=['words', 'count'])\n",
    "clean_tweets.head()"
   ]
  },
  {
   "cell_type": "code",
   "execution_count": 38,
   "metadata": {},
   "outputs": [
    {
     "data": {
      "text/html": [
       "<div>\n",
       "<style scoped>\n",
       "    .dataframe tbody tr th:only-of-type {\n",
       "        vertical-align: middle;\n",
       "    }\n",
       "\n",
       "    .dataframe tbody tr th {\n",
       "        vertical-align: top;\n",
       "    }\n",
       "\n",
       "    .dataframe thead th {\n",
       "        text-align: right;\n",
       "    }\n",
       "</style>\n",
       "<table border=\"1\" class=\"dataframe\">\n",
       "  <thead>\n",
       "    <tr style=\"text-align: right;\">\n",
       "      <th></th>\n",
       "      <th>tweets</th>\n",
       "      <th>retweet_count</th>\n",
       "      <th>review</th>\n",
       "      <th>stem_review</th>\n",
       "      <th>lemmatize_review</th>\n",
       "      <th>final_review</th>\n",
       "      <th>polarity</th>\n",
       "      <th>subjectivity</th>\n",
       "      <th>tokenize</th>\n",
       "    </tr>\n",
       "  </thead>\n",
       "  <tbody>\n",
       "    <tr>\n",
       "      <th>0</th>\n",
       "      <td>6 big questions about new Omicron-targeting boosters ... #Boosting #Target #targeting #boost https://t.co/9TWMuUXxJn</td>\n",
       "      <td>0</td>\n",
       "      <td>6 big questions about new Omicrontargeting boosters  Boosting Target targeting boost https</td>\n",
       "      <td>6 big question about new omicrontarget booster boost target target boost http</td>\n",
       "      <td>6 big question about new Omicrontargeting booster Boosting Target targeting boost http</td>\n",
       "      <td>6 big questions new Omicrontargeting boosters Boosting Target targeting boost https</td>\n",
       "      <td>0.068182</td>\n",
       "      <td>0.277273</td>\n",
       "      <td>[6, big, questions, new, Omicrontargeting, boosters, Boosting, Target, targeting, boost, https]</td>\n",
       "    </tr>\n",
       "    <tr>\n",
       "      <th>1</th>\n",
       "      <td>I'm confused https://t.co/NyfgdYUYAT</td>\n",
       "      <td>0</td>\n",
       "      <td>Im confused https</td>\n",
       "      <td>im confus http</td>\n",
       "      <td>Im confused http</td>\n",
       "      <td>Im confused https</td>\n",
       "      <td>-0.400000</td>\n",
       "      <td>0.700000</td>\n",
       "      <td>[Im, confused, https]</td>\n",
       "    </tr>\n",
       "    <tr>\n",
       "      <th>2</th>\n",
       "      <td>Long COVID less likely after Omicron than after original virus, Swiss ... - LabPulse https://t.co/v4u9QBo8hS</td>\n",
       "      <td>0</td>\n",
       "      <td>Long COVID less likely after Omicron than after original virus Swiss   LabPulse https</td>\n",
       "      <td>long covid less like after omicron than after origin viru swiss labpuls http</td>\n",
       "      <td>Long COVID le likely after Omicron than after original virus Swiss LabPulse http</td>\n",
       "      <td>Long COVID less likely Omicron original virus Swiss LabPulse https</td>\n",
       "      <td>0.039583</td>\n",
       "      <td>0.554167</td>\n",
       "      <td>[Long, COVID, less, likely, Omicron, original, virus, Swiss, LabPulse, https]</td>\n",
       "    </tr>\n",
       "    <tr>\n",
       "      <th>3</th>\n",
       "      <td>The finding don't tally with the high numbers we see in @ONS bulletins \\n\\nMost research still reports on pre-#Omicron infections so we need to wait for a broader set of studies\\n\\nArticle coverin...</td>\n",
       "      <td>0</td>\n",
       "      <td>The finding dont tally with the high numbers we see in  bulletins \\n\\nMost research still reports on preOmicron infections so we need to wait for a broader set of studies\\n\\nArticle covering this ...</td>\n",
       "      <td>the find dont talli with the high number we see in bulletin most research still report on preomicron infect so we need to wait for a broader set of studi articl cover thi report from http</td>\n",
       "      <td>The finding dont tally with the high number we see in bulletin Most research still report on preOmicron infection so we need to wait for a broader set of study Article covering this report from http</td>\n",
       "      <td>finding dont tally high numbers see bulletins research still reports preOmicron infections need wait broader set studies Article covering report https</td>\n",
       "      <td>0.160000</td>\n",
       "      <td>0.540000</td>\n",
       "      <td>[finding, dont, tally, high, numbers, see, bulletins, research, still, reports, preOmicron, infections, need, wait, broader, set, studies, Article, covering, report, https]</td>\n",
       "    </tr>\n",
       "    <tr>\n",
       "      <th>4</th>\n",
       "      <td>A conference abstract from the European Congress of Clinical Microbiology &amp;amp; Infectious Diseases suggested that #Omicron infection causes much less #LongCovid than wild-type #SARSCoV2 \\n\\nExper...</td>\n",
       "      <td>1</td>\n",
       "      <td>A conference abstract from the European Congress of Clinical Microbiology  Infectious Diseases suggested that Omicron infection causes much less LongCovid than wildtype SARSCoV2 \\n\\nExpert comment...</td>\n",
       "      <td>a confer abstract from the european congress of clinic microbiolog infecti diseas suggest that omicron infect caus much less longcovid than wildtyp sarscov2 expert comment here includ from 10 http</td>\n",
       "      <td>A conference abstract from the European Congress of Clinical Microbiology Infectious Diseases suggested that Omicron infection cause much le LongCovid than wildtype SARSCoV2 Expert comment here in...</td>\n",
       "      <td>conference abstract European Congress Clinical Microbiology Infectious Diseases suggested Omicron infection causes much less LongCovid wildtype SARSCoV2 Expert comments including 10 https</td>\n",
       "      <td>-0.083333</td>\n",
       "      <td>0.033333</td>\n",
       "      <td>[conference, abstract, European, Congress, Clinical, Microbiology, Infectious, Diseases, suggested, Omicron, infection, causes, much, less, LongCovid, wildtype, SARSCoV2, Expert, comments, includi...</td>\n",
       "    </tr>\n",
       "  </tbody>\n",
       "</table>\n",
       "</div>"
      ],
      "text/plain": [
       "                                                                                                                                                                                                    tweets  \\\n",
       "0                                                                                     6 big questions about new Omicron-targeting boosters ... #Boosting #Target #targeting #boost https://t.co/9TWMuUXxJn   \n",
       "1                                                                                                                                                                     I'm confused https://t.co/NyfgdYUYAT   \n",
       "2                                                                                             Long COVID less likely after Omicron than after original virus, Swiss ... - LabPulse https://t.co/v4u9QBo8hS   \n",
       "3  The finding don't tally with the high numbers we see in @ONS bulletins \\n\\nMost research still reports on pre-#Omicron infections so we need to wait for a broader set of studies\\n\\nArticle coverin...   \n",
       "4  A conference abstract from the European Congress of Clinical Microbiology &amp; Infectious Diseases suggested that #Omicron infection causes much less #LongCovid than wild-type #SARSCoV2 \\n\\nExper...   \n",
       "\n",
       "   retweet_count  \\\n",
       "0              0   \n",
       "1              0   \n",
       "2              0   \n",
       "3              0   \n",
       "4              1   \n",
       "\n",
       "                                                                                                                                                                                                    review  \\\n",
       "0                                                                                                               6 big questions about new Omicrontargeting boosters  Boosting Target targeting boost https   \n",
       "1                                                                                                                                                                                        Im confused https   \n",
       "2                                                                                                                    Long COVID less likely after Omicron than after original virus Swiss   LabPulse https   \n",
       "3  The finding dont tally with the high numbers we see in  bulletins \\n\\nMost research still reports on preOmicron infections so we need to wait for a broader set of studies\\n\\nArticle covering this ...   \n",
       "4  A conference abstract from the European Congress of Clinical Microbiology  Infectious Diseases suggested that Omicron infection causes much less LongCovid than wildtype SARSCoV2 \\n\\nExpert comment...   \n",
       "\n",
       "                                                                                                                                                                                            stem_review  \\\n",
       "0                                                                                                                         6 big question about new omicrontarget booster boost target target boost http   \n",
       "1                                                                                                                                                                                        im confus http   \n",
       "2                                                                                                                          long covid less like after omicron than after origin viru swiss labpuls http   \n",
       "3           the find dont talli with the high number we see in bulletin most research still report on preomicron infect so we need to wait for a broader set of studi articl cover thi report from http   \n",
       "4  a confer abstract from the european congress of clinic microbiolog infecti diseas suggest that omicron infect caus much less longcovid than wildtyp sarscov2 expert comment here includ from 10 http   \n",
       "\n",
       "                                                                                                                                                                                          lemmatize_review  \\\n",
       "0                                                                                                                   6 big question about new Omicrontargeting booster Boosting Target targeting boost http   \n",
       "1                                                                                                                                                                                         Im confused http   \n",
       "2                                                                                                                         Long COVID le likely after Omicron than after original virus Swiss LabPulse http   \n",
       "3   The finding dont tally with the high number we see in bulletin Most research still report on preOmicron infection so we need to wait for a broader set of study Article covering this report from http   \n",
       "4  A conference abstract from the European Congress of Clinical Microbiology Infectious Diseases suggested that Omicron infection cause much le LongCovid than wildtype SARSCoV2 Expert comment here in...   \n",
       "\n",
       "                                                                                                                                                                                  final_review  \\\n",
       "0                                                                                                          6 big questions new Omicrontargeting boosters Boosting Target targeting boost https   \n",
       "1                                                                                                                                                                            Im confused https   \n",
       "2                                                                                                                           Long COVID less likely Omicron original virus Swiss LabPulse https   \n",
       "3                                       finding dont tally high numbers see bulletins research still reports preOmicron infections need wait broader set studies Article covering report https   \n",
       "4  conference abstract European Congress Clinical Microbiology Infectious Diseases suggested Omicron infection causes much less LongCovid wildtype SARSCoV2 Expert comments including 10 https   \n",
       "\n",
       "   polarity  subjectivity  \\\n",
       "0  0.068182      0.277273   \n",
       "1 -0.400000      0.700000   \n",
       "2  0.039583      0.554167   \n",
       "3  0.160000      0.540000   \n",
       "4 -0.083333      0.033333   \n",
       "\n",
       "                                                                                                                                                                                                  tokenize  \n",
       "0                                                                                                          [6, big, questions, new, Omicrontargeting, boosters, Boosting, Target, targeting, boost, https]  \n",
       "1                                                                                                                                                                                    [Im, confused, https]  \n",
       "2                                                                                                                            [Long, COVID, less, likely, Omicron, original, virus, Swiss, LabPulse, https]  \n",
       "3                             [finding, dont, tally, high, numbers, see, bulletins, research, still, reports, preOmicron, infections, need, wait, broader, set, studies, Article, covering, report, https]  \n",
       "4  [conference, abstract, European, Congress, Clinical, Microbiology, Infectious, Diseases, suggested, Omicron, infection, causes, much, less, LongCovid, wildtype, SARSCoV2, Expert, comments, includi...  "
      ]
     },
     "execution_count": 38,
     "metadata": {},
     "output_type": "execute_result"
    }
   ],
   "source": [
    "data.head()"
   ]
  },
  {
   "cell_type": "code",
   "execution_count": 39,
   "metadata": {},
   "outputs": [
    {
     "data": {
      "image/png": "[encoded data removed]",
      "text/plain": [
       "<Figure size 800x800 with 1 Axes>"
      ]
     },
     "metadata": {},
     "output_type": "display_data"
    }
   ],
   "source": [
    "\n",
    "fig, ax = plt.subplots(figsize=(8, 8))\n",
    "clean_tweets[:25].sort_values(by='count').plot.barh(x='words',y='count',ax=ax,color='maroon')\n",
    "ax.set_title(\"Common Words Found in Tweets (Including All Words)\")\n",
    "plt.show()"
   ]
  },
  {
   "cell_type": "markdown",
   "metadata": {},
   "source": [
    "Using sentiment.polarity_score function, Find the polarity score of all the tweets and categorize them as Positive, Negative or Neutral."
   ]
  },
  {
   "cell_type": "code",
   "execution_count": 40,
   "metadata": {},
   "outputs": [
    {
     "data": {
      "text/html": [
       "<div>\n",
       "<style scoped>\n",
       "    .dataframe tbody tr th:only-of-type {\n",
       "        vertical-align: middle;\n",
       "    }\n",
       "\n",
       "    .dataframe tbody tr th {\n",
       "        vertical-align: top;\n",
       "    }\n",
       "\n",
       "    .dataframe thead th {\n",
       "        text-align: right;\n",
       "    }\n",
       "</style>\n",
       "<table border=\"1\" class=\"dataframe\">\n",
       "  <thead>\n",
       "    <tr style=\"text-align: right;\">\n",
       "      <th></th>\n",
       "      <th>text</th>\n",
       "      <th>polarity</th>\n",
       "    </tr>\n",
       "  </thead>\n",
       "  <tbody>\n",
       "    <tr>\n",
       "      <th>0</th>\n",
       "      <td>6 big questions new Omicrontargeting boosters Boosting Target targeting boost https</td>\n",
       "      <td>Positive</td>\n",
       "    </tr>\n",
       "    <tr>\n",
       "      <th>1</th>\n",
       "      <td>Im confused https</td>\n",
       "      <td>Negative</td>\n",
       "    </tr>\n",
       "    <tr>\n",
       "      <th>2</th>\n",
       "      <td>Long COVID less likely Omicron original virus Swiss LabPulse https</td>\n",
       "      <td>Neutral</td>\n",
       "    </tr>\n",
       "    <tr>\n",
       "      <th>3</th>\n",
       "      <td>finding dont tally high numbers see bulletins research still reports preOmicron infections need wait broader set studies Article covering report https</td>\n",
       "      <td>Positive</td>\n",
       "    </tr>\n",
       "    <tr>\n",
       "      <th>4</th>\n",
       "      <td>conference abstract European Congress Clinical Microbiology Infectious Diseases suggested Omicron infection causes much less LongCovid wildtype SARSCoV2 Expert comments including 10 https</td>\n",
       "      <td>Negative</td>\n",
       "    </tr>\n",
       "  </tbody>\n",
       "</table>\n",
       "</div>"
      ],
      "text/plain": [
       "                                                                                                                                                                                          text  \\\n",
       "0                                                                                                          6 big questions new Omicrontargeting boosters Boosting Target targeting boost https   \n",
       "1                                                                                                                                                                            Im confused https   \n",
       "2                                                                                                                           Long COVID less likely Omicron original virus Swiss LabPulse https   \n",
       "3                                       finding dont tally high numbers see bulletins research still reports preOmicron infections need wait broader set studies Article covering report https   \n",
       "4  conference abstract European Congress Clinical Microbiology Infectious Diseases suggested Omicron infection causes much less LongCovid wildtype SARSCoV2 Expert comments including 10 https   \n",
       "\n",
       "   polarity  \n",
       "0  Positive  \n",
       "1  Negative  \n",
       "2   Neutral  \n",
       "3  Positive  \n",
       "4  Negative  "
      ]
     },
     "execution_count": 40,
     "metadata": {},
     "output_type": "execute_result"
    }
   ],
   "source": [
    "PNN = data['polarity'].apply(lambda x: \"Positive\" if x>=0.05 else (\"Negative\" if x<= -0.05 else \"Neutral\"))\n",
    "new_review = data['final_review']\n",
    "new_review = new_review.tolist()\n",
    "PNN = PNN.tolist()\n",
    "\n",
    "dict = {'text':new_review, 'polarity':PNN}\n",
    "pnn = pd.DataFrame(dict)\n",
    "pnn.head()"
   ]
  },
  {
   "cell_type": "code",
   "execution_count": 41,
   "metadata": {},
   "outputs": [],
   "source": [
    "\n",
    "data['PN'] = data['polarity'].apply(lambda x: \"Positive\" if x>=0 else \"Negative\")"
   ]
  },
  {
   "cell_type": "code",
   "execution_count": 42,
   "metadata": {},
   "outputs": [
    {
     "data": {
      "text/html": [
       "<div>\n",
       "<style scoped>\n",
       "    .dataframe tbody tr th:only-of-type {\n",
       "        vertical-align: middle;\n",
       "    }\n",
       "\n",
       "    .dataframe tbody tr th {\n",
       "        vertical-align: top;\n",
       "    }\n",
       "\n",
       "    .dataframe thead th {\n",
       "        text-align: right;\n",
       "    }\n",
       "</style>\n",
       "<table border=\"1\" class=\"dataframe\">\n",
       "  <thead>\n",
       "    <tr style=\"text-align: right;\">\n",
       "      <th></th>\n",
       "      <th>tweets</th>\n",
       "      <th>retweet_count</th>\n",
       "      <th>review</th>\n",
       "      <th>stem_review</th>\n",
       "      <th>lemmatize_review</th>\n",
       "      <th>final_review</th>\n",
       "      <th>polarity</th>\n",
       "      <th>subjectivity</th>\n",
       "      <th>tokenize</th>\n",
       "      <th>PN</th>\n",
       "    </tr>\n",
       "  </thead>\n",
       "  <tbody>\n",
       "    <tr>\n",
       "      <th>0</th>\n",
       "      <td>6 big questions about new Omicron-targeting boosters ... #Boosting #Target #targeting #boost https://t.co/9TWMuUXxJn</td>\n",
       "      <td>0</td>\n",
       "      <td>6 big questions about new Omicrontargeting boosters  Boosting Target targeting boost https</td>\n",
       "      <td>6 big question about new omicrontarget booster boost target target boost http</td>\n",
       "      <td>6 big question about new Omicrontargeting booster Boosting Target targeting boost http</td>\n",
       "      <td>6 big questions new Omicrontargeting boosters Boosting Target targeting boost https</td>\n",
       "      <td>0.068182</td>\n",
       "      <td>0.277273</td>\n",
       "      <td>[6, big, questions, new, Omicrontargeting, boosters, Boosting, Target, targeting, boost, https]</td>\n",
       "      <td>Positive</td>\n",
       "    </tr>\n",
       "    <tr>\n",
       "      <th>1</th>\n",
       "      <td>I'm confused https://t.co/NyfgdYUYAT</td>\n",
       "      <td>0</td>\n",
       "      <td>Im confused https</td>\n",
       "      <td>im confus http</td>\n",
       "      <td>Im confused http</td>\n",
       "      <td>Im confused https</td>\n",
       "      <td>-0.400000</td>\n",
       "      <td>0.700000</td>\n",
       "      <td>[Im, confused, https]</td>\n",
       "      <td>Negative</td>\n",
       "    </tr>\n",
       "  </tbody>\n",
       "</table>\n",
       "</div>"
      ],
      "text/plain": [
       "                                                                                                                 tweets  \\\n",
       "0  6 big questions about new Omicron-targeting boosters ... #Boosting #Target #targeting #boost https://t.co/9TWMuUXxJn   \n",
       "1                                                                                  I'm confused https://t.co/NyfgdYUYAT   \n",
       "\n",
       "   retweet_count  \\\n",
       "0              0   \n",
       "1              0   \n",
       "\n",
       "                                                                                       review  \\\n",
       "0  6 big questions about new Omicrontargeting boosters  Boosting Target targeting boost https   \n",
       "1                                                                           Im confused https   \n",
       "\n",
       "                                                                     stem_review  \\\n",
       "0  6 big question about new omicrontarget booster boost target target boost http   \n",
       "1                                                                 im confus http   \n",
       "\n",
       "                                                                         lemmatize_review  \\\n",
       "0  6 big question about new Omicrontargeting booster Boosting Target targeting boost http   \n",
       "1                                                                        Im confused http   \n",
       "\n",
       "                                                                          final_review  \\\n",
       "0  6 big questions new Omicrontargeting boosters Boosting Target targeting boost https   \n",
       "1                                                                    Im confused https   \n",
       "\n",
       "   polarity  subjectivity  \\\n",
       "0  0.068182      0.277273   \n",
       "1 -0.400000      0.700000   \n",
       "\n",
       "                                                                                          tokenize  \\\n",
       "0  [6, big, questions, new, Omicrontargeting, boosters, Boosting, Target, targeting, boost, https]   \n",
       "1                                                                            [Im, confused, https]   \n",
       "\n",
       "         PN  \n",
       "0  Positive  \n",
       "1  Negative  "
      ]
     },
     "execution_count": 42,
     "metadata": {},
     "output_type": "execute_result"
    }
   ],
   "source": [
    "data.head(2)"
   ]
  },
  {
   "cell_type": "code",
   "execution_count": 47,
   "metadata": {},
   "outputs": [],
   "source": [
    "lb = LabelBinarizer()\n",
    "data['label'] = lb.fit_transform(data['PN'])"
   ]
  },
  {
   "cell_type": "code",
   "execution_count": 48,
   "metadata": {},
   "outputs": [
    {
     "data": {
      "image/png": "[encoded data removed]",
      "text/plain": [
       "<Figure size 500x500 with 1 Axes>"
      ]
     },
     "metadata": {},
     "output_type": "display_data"
    }
   ],
   "source": [
    "plt.figure(figsize=(5,5))\n",
    "negative_text=norm_train_reviews[8]\n",
    "WC=WordCloud(width=1000,height=500,max_words=500,min_font_size=5)\n",
    "negative_words=WC.generate(negative_text)\n",
    "plt.imshow(negative_words,interpolation='bilinear')\n",
    "plt.show()"
   ]
  },
  {
   "cell_type": "code",
   "execution_count": 49,
   "metadata": {},
   "outputs": [
    {
     "data": {
      "text/html": [
       "<div>\n",
       "<style scoped>\n",
       "    .dataframe tbody tr th:only-of-type {\n",
       "        vertical-align: middle;\n",
       "    }\n",
       "\n",
       "    .dataframe tbody tr th {\n",
       "        vertical-align: top;\n",
       "    }\n",
       "\n",
       "    .dataframe thead th {\n",
       "        text-align: right;\n",
       "    }\n",
       "</style>\n",
       "<table border=\"1\" class=\"dataframe\">\n",
       "  <thead>\n",
       "    <tr style=\"text-align: right;\">\n",
       "      <th></th>\n",
       "      <th>tweets</th>\n",
       "      <th>retweet_count</th>\n",
       "      <th>review</th>\n",
       "      <th>stem_review</th>\n",
       "      <th>lemmatize_review</th>\n",
       "      <th>final_review</th>\n",
       "      <th>polarity</th>\n",
       "      <th>subjectivity</th>\n",
       "      <th>tokenize</th>\n",
       "      <th>PN</th>\n",
       "      <th>label</th>\n",
       "    </tr>\n",
       "  </thead>\n",
       "  <tbody>\n",
       "    <tr>\n",
       "      <th>0</th>\n",
       "      <td>6 big questions about new Omicron-targeting boosters ... #Boosting #Target #targeting #boost https://t.co/9TWMuUXxJn</td>\n",
       "      <td>0</td>\n",
       "      <td>6 big questions about new Omicrontargeting boosters  Boosting Target targeting boost https</td>\n",
       "      <td>6 big question about new omicrontarget booster boost target target boost http</td>\n",
       "      <td>6 big question about new Omicrontargeting booster Boosting Target targeting boost http</td>\n",
       "      <td>6 big questions new Omicrontargeting boosters Boosting Target targeting boost https</td>\n",
       "      <td>0.068182</td>\n",
       "      <td>0.277273</td>\n",
       "      <td>[6, big, questions, new, Omicrontargeting, boosters, Boosting, Target, targeting, boost, https]</td>\n",
       "      <td>Positive</td>\n",
       "      <td>1</td>\n",
       "    </tr>\n",
       "    <tr>\n",
       "      <th>1</th>\n",
       "      <td>I'm confused https://t.co/NyfgdYUYAT</td>\n",
       "      <td>0</td>\n",
       "      <td>Im confused https</td>\n",
       "      <td>im confus http</td>\n",
       "      <td>Im confused http</td>\n",
       "      <td>Im confused https</td>\n",
       "      <td>-0.400000</td>\n",
       "      <td>0.700000</td>\n",
       "      <td>[Im, confused, https]</td>\n",
       "      <td>Negative</td>\n",
       "      <td>0</td>\n",
       "    </tr>\n",
       "  </tbody>\n",
       "</table>\n",
       "</div>"
      ],
      "text/plain": [
       "                                                                                                                 tweets  \\\n",
       "0  6 big questions about new Omicron-targeting boosters ... #Boosting #Target #targeting #boost https://t.co/9TWMuUXxJn   \n",
       "1                                                                                  I'm confused https://t.co/NyfgdYUYAT   \n",
       "\n",
       "   retweet_count  \\\n",
       "0              0   \n",
       "1              0   \n",
       "\n",
       "                                                                                       review  \\\n",
       "0  6 big questions about new Omicrontargeting boosters  Boosting Target targeting boost https   \n",
       "1                                                                           Im confused https   \n",
       "\n",
       "                                                                     stem_review  \\\n",
       "0  6 big question about new omicrontarget booster boost target target boost http   \n",
       "1                                                                 im confus http   \n",
       "\n",
       "                                                                         lemmatize_review  \\\n",
       "0  6 big question about new Omicrontargeting booster Boosting Target targeting boost http   \n",
       "1                                                                        Im confused http   \n",
       "\n",
       "                                                                          final_review  \\\n",
       "0  6 big questions new Omicrontargeting boosters Boosting Target targeting boost https   \n",
       "1                                                                    Im confused https   \n",
       "\n",
       "   polarity  subjectivity  \\\n",
       "0  0.068182      0.277273   \n",
       "1 -0.400000      0.700000   \n",
       "\n",
       "                                                                                          tokenize  \\\n",
       "0  [6, big, questions, new, Omicrontargeting, boosters, Boosting, Target, targeting, boost, https]   \n",
       "1                                                                            [Im, confused, https]   \n",
       "\n",
       "         PN  label  \n",
       "0  Positive      1  \n",
       "1  Negative      0  "
      ]
     },
     "execution_count": 49,
     "metadata": {},
     "output_type": "execute_result"
    }
   ],
   "source": [
    "data.head(2)"
   ]
  },
  {
   "cell_type": "code",
   "execution_count": 50,
   "metadata": {},
   "outputs": [
    {
     "data": {
      "text/plain": [
       "(6998, 11)"
      ]
     },
     "execution_count": 50,
     "metadata": {},
     "output_type": "execute_result"
    }
   ],
   "source": [
    "data.shape"
   ]
  },
  {
   "cell_type": "code",
   "execution_count": 52,
   "metadata": {},
   "outputs": [],
   "source": [
    "train = data.label[:5000]\n",
    "test = data.label[5001:]"
   ]
  },
  {
   "cell_type": "markdown",
   "metadata": {},
   "source": [
    "<b> Model Building and Evaluation </b>"
   ]
  },
  {
   "cell_type": "markdown",
   "metadata": {},
   "source": [
    "<b> Logistic Regression </b>"
   ]
  },
  {
   "cell_type": "code",
   "execution_count": 53,
   "metadata": {},
   "outputs": [
    {
     "name": "stdout",
     "output_type": "stream",
     "text": [
      "LogisticRegression(C=1, max_iter=500, random_state=42)\n",
      "LogisticRegression(C=1, max_iter=500, random_state=42)\n"
     ]
    }
   ],
   "source": [
    "lr = LogisticRegression(penalty='l2',max_iter=500,C=1,random_state=42)\n",
    "lr_bow = lr.fit(cv_train_reviews,train) #From Bag of Words\n",
    "print(lr_bow)\n",
    "\n",
    "lr_tfidf = lr.fit(tv_train_reviews,train) #TFIDF \n",
    "print(lr_tfidf)"
   ]
  },
  {
   "cell_type": "code",
   "execution_count": 54,
   "metadata": {},
   "outputs": [
    {
     "name": "stdout",
     "output_type": "stream",
     "text": [
      "[1 1 1 ... 1 1 1]\n",
      "[1 1 1 ... 1 1 1]\n"
     ]
    }
   ],
   "source": [
    "lr_bow_predict = lr.predict(cv_test_reviews)\n",
    "print(lr_bow_predict)\n",
    "lr_tfidf_predict = lr.predict(tv_test_reviews)\n",
    "print(lr_tfidf_predict)"
   ]
  },
  {
   "cell_type": "code",
   "execution_count": 55,
   "metadata": {},
   "outputs": [
    {
     "name": "stdout",
     "output_type": "stream",
     "text": [
      "(1997,)\n",
      "(1997,)\n"
     ]
    }
   ],
   "source": [
    "print(lr_bow_predict.shape)\n",
    "print(lr_tfidf_predict.shape)"
   ]
  },
  {
   "cell_type": "code",
   "execution_count": 56,
   "metadata": {},
   "outputs": [
    {
     "data": {
      "text/plain": [
       "array([[0, 0, 0, ..., 0, 0, 0]], dtype=int64)"
      ]
     },
     "execution_count": 56,
     "metadata": {},
     "output_type": "execute_result"
    }
   ],
   "source": [
    "cv_test_reviews[0].toarray()"
   ]
  },
  {
   "cell_type": "code",
   "execution_count": 57,
   "metadata": {},
   "outputs": [],
   "source": [
    "text = data['tweets'][5001:].tolist()"
   ]
  },
  {
   "cell_type": "code",
   "execution_count": 58,
   "metadata": {},
   "outputs": [
    {
     "data": {
      "text/plain": [
       "1997"
      ]
     },
     "execution_count": 58,
     "metadata": {},
     "output_type": "execute_result"
    }
   ],
   "source": [
    "len(text)"
   ]
  },
  {
   "cell_type": "code",
   "execution_count": null,
   "metadata": {},
   "outputs": [],
   "source": []
  },
  {
   "cell_type": "code",
   "execution_count": 59,
   "metadata": {},
   "outputs": [],
   "source": [
    "dict = {'text':text,'test':test, 'bow':lr_bow_predict, 'tfidf': lr_tfidf_predict}\n",
    "df1 = pd.DataFrame(dict)"
   ]
  },
  {
   "cell_type": "code",
   "execution_count": 60,
   "metadata": {},
   "outputs": [
    {
     "data": {
      "text/html": [
       "<div>\n",
       "<style scoped>\n",
       "    .dataframe tbody tr th:only-of-type {\n",
       "        vertical-align: middle;\n",
       "    }\n",
       "\n",
       "    .dataframe tbody tr th {\n",
       "        vertical-align: top;\n",
       "    }\n",
       "\n",
       "    .dataframe thead th {\n",
       "        text-align: right;\n",
       "    }\n",
       "</style>\n",
       "<table border=\"1\" class=\"dataframe\">\n",
       "  <thead>\n",
       "    <tr style=\"text-align: right;\">\n",
       "      <th></th>\n",
       "      <th>text</th>\n",
       "      <th>test</th>\n",
       "      <th>bow</th>\n",
       "      <th>tfidf</th>\n",
       "    </tr>\n",
       "  </thead>\n",
       "  <tbody>\n",
       "    <tr>\n",
       "      <th>5001</th>\n",
       "      <td>Monovalent COVID booster protects well against Omicron, but it wanes over 6 months\\n\\nThe #COVID19 booster was 74% effective against #Omicron infection compared with the primary vaccine series for...</td>\n",
       "      <td>1</td>\n",
       "      <td>1</td>\n",
       "      <td>1</td>\n",
       "    </tr>\n",
       "    <tr>\n",
       "      <th>5002</th>\n",
       "      <td>@KDog0129 @7inverse @stkirsch Vaccine helped at the start not so much now as Omicron is pretty weak but elderly should def get vaccinated , I think they have a better chance fighting Covid with va...</td>\n",
       "      <td>1</td>\n",
       "      <td>1</td>\n",
       "      <td>1</td>\n",
       "    </tr>\n",
       "    <tr>\n",
       "      <th>5003</th>\n",
       "      <td>Bivalent Boosters Protect Against New COVID-19 Variants\\n\\nhttps://t.co/9mHFBy6bhh\\n\\n@IDSE_Online #FAP_ICSCC</td>\n",
       "      <td>1</td>\n",
       "      <td>1</td>\n",
       "      <td>1</td>\n",
       "    </tr>\n",
       "    <tr>\n",
       "      <th>5004</th>\n",
       "      <td>Nothing https://t.co/dIXNfj4nmx</td>\n",
       "      <td>1</td>\n",
       "      <td>1</td>\n",
       "      <td>1</td>\n",
       "    </tr>\n",
       "    <tr>\n",
       "      <th>5005</th>\n",
       "      <td>@drvictoriafox I was in zero covid Taiwan prior to the arrival of Omicron where they finally realised all the restrictions were killing them both financially and socially.\\n\\nThey continued to mas...</td>\n",
       "      <td>1</td>\n",
       "      <td>1</td>\n",
       "      <td>1</td>\n",
       "    </tr>\n",
       "  </tbody>\n",
       "</table>\n",
       "</div>"
      ],
      "text/plain": [
       "                                                                                                                                                                                                         text  \\\n",
       "5001  Monovalent COVID booster protects well against Omicron, but it wanes over 6 months\\n\\nThe #COVID19 booster was 74% effective against #Omicron infection compared with the primary vaccine series for...   \n",
       "5002  @KDog0129 @7inverse @stkirsch Vaccine helped at the start not so much now as Omicron is pretty weak but elderly should def get vaccinated , I think they have a better chance fighting Covid with va...   \n",
       "5003                                                                                            Bivalent Boosters Protect Against New COVID-19 Variants\\n\\nhttps://t.co/9mHFBy6bhh\\n\\n@IDSE_Online #FAP_ICSCC   \n",
       "5004                                                                                                                                                                          Nothing https://t.co/dIXNfj4nmx   \n",
       "5005  @drvictoriafox I was in zero covid Taiwan prior to the arrival of Omicron where they finally realised all the restrictions were killing them both financially and socially.\\n\\nThey continued to mas...   \n",
       "\n",
       "      test  bow  tfidf  \n",
       "5001     1    1      1  \n",
       "5002     1    1      1  \n",
       "5003     1    1      1  \n",
       "5004     1    1      1  \n",
       "5005     1    1      1  "
      ]
     },
     "execution_count": 60,
     "metadata": {},
     "output_type": "execute_result"
    }
   ],
   "source": [
    "df1.head()"
   ]
  },
  {
   "cell_type": "code",
   "execution_count": 61,
   "metadata": {},
   "outputs": [
    {
     "data": {
      "text/html": [
       "<div>\n",
       "<style scoped>\n",
       "    .dataframe tbody tr th:only-of-type {\n",
       "        vertical-align: middle;\n",
       "    }\n",
       "\n",
       "    .dataframe tbody tr th {\n",
       "        vertical-align: top;\n",
       "    }\n",
       "\n",
       "    .dataframe thead th {\n",
       "        text-align: right;\n",
       "    }\n",
       "</style>\n",
       "<table border=\"1\" class=\"dataframe\">\n",
       "  <thead>\n",
       "    <tr style=\"text-align: right;\">\n",
       "      <th></th>\n",
       "      <th>text</th>\n",
       "      <th>test</th>\n",
       "      <th>bow</th>\n",
       "      <th>tfidf</th>\n",
       "    </tr>\n",
       "  </thead>\n",
       "  <tbody>\n",
       "    <tr>\n",
       "      <th>5006</th>\n",
       "      <td>Tough crowd https://t.co/Qd3qkXn1nQ</td>\n",
       "      <td>0</td>\n",
       "      <td>1</td>\n",
       "      <td>1</td>\n",
       "    </tr>\n",
       "    <tr>\n",
       "      <th>5013</th>\n",
       "      <td>The cost of living crises is just a name they made up just like Omicron was an anagram fir moronic the war in Ukraine and lack if gas should not mean they suffer with high extortionate prices when...</td>\n",
       "      <td>0</td>\n",
       "      <td>1</td>\n",
       "      <td>1</td>\n",
       "    </tr>\n",
       "    <tr>\n",
       "      <th>5016</th>\n",
       "      <td>@the_rock040404 @tradsperger No. I had it during Omicron. Not a bad case. I had one day of really achy joints and a terrible headache that I thought was a hormonal migraine.  When I still felt awf...</td>\n",
       "      <td>0</td>\n",
       "      <td>1</td>\n",
       "      <td>1</td>\n",
       "    </tr>\n",
       "    <tr>\n",
       "      <th>5028</th>\n",
       "      <td>@Pianokit @WaitingForPerot @1BJDJ Oh yes ,it mutated .we had ,delta ,omicron,and the kraken! 🐉 😂.oh and don't forget monkey 🐵 pox.But it was dropped because it was racist 😆</td>\n",
       "      <td>0</td>\n",
       "      <td>1</td>\n",
       "      <td>1</td>\n",
       "    </tr>\n",
       "    <tr>\n",
       "      <th>5031</th>\n",
       "      <td>@BBCNewsnight Absolutely!  Masks are working so well in stringently masked Asian countries that recently re-opened to Omicron. Their populations will be infected to saturation in under a year - mo...</td>\n",
       "      <td>0</td>\n",
       "      <td>1</td>\n",
       "      <td>1</td>\n",
       "    </tr>\n",
       "    <tr>\n",
       "      <th>...</th>\n",
       "      <td>...</td>\n",
       "      <td>...</td>\n",
       "      <td>...</td>\n",
       "      <td>...</td>\n",
       "    </tr>\n",
       "    <tr>\n",
       "      <th>6980</th>\n",
       "      <td>@bucs601 @UoKnowsBest @DC_Draino The unvaxxed got very sick and or died? Maybe get off MSM and actually research. My unvaxxed dtr had Delta and was barely sick and still alive. I got Omicron and d...</td>\n",
       "      <td>0</td>\n",
       "      <td>1</td>\n",
       "      <td>1</td>\n",
       "    </tr>\n",
       "    <tr>\n",
       "      <th>6989</th>\n",
       "      <td>@MarshaManley @catturd2 No.  When Omicron proved less deadly is when free thinkers started rejecting the official narrative.  You hated us for this and ostracized and fired us but we were right.</td>\n",
       "      <td>0</td>\n",
       "      <td>1</td>\n",
       "      <td>1</td>\n",
       "    </tr>\n",
       "    <tr>\n",
       "      <th>6990</th>\n",
       "      <td>@thebobbyaxlrod @justin_hart @IanCopeland5 Same. Omicron was a game changer. Turns it into a minor throat cold for most.</td>\n",
       "      <td>0</td>\n",
       "      <td>1</td>\n",
       "      <td>1</td>\n",
       "    </tr>\n",
       "    <tr>\n",
       "      <th>6993</th>\n",
       "      <td>@Cycl_Conscience @BallouxFrancois Your argument is flawed. Masks work. We do know that. But they are no silver bullet to avoid every infection. There are times where people lift their masks and Om...</td>\n",
       "      <td>0</td>\n",
       "      <td>1</td>\n",
       "      <td>1</td>\n",
       "    </tr>\n",
       "    <tr>\n",
       "      <th>6996</th>\n",
       "      <td>@noxcato @andrewtanyongyi @TAH_Sci @hsom113 @MichaelSFuhrer That 'it all worked before Delta/Omicron' is the fallback position of a losing argument, similar to the 'but, but long covid' stance.</td>\n",
       "      <td>0</td>\n",
       "      <td>1</td>\n",
       "      <td>1</td>\n",
       "    </tr>\n",
       "  </tbody>\n",
       "</table>\n",
       "<p>406 rows × 4 columns</p>\n",
       "</div>"
      ],
      "text/plain": [
       "                                                                                                                                                                                                         text  \\\n",
       "5006                                                                                                                                                                      Tough crowd https://t.co/Qd3qkXn1nQ   \n",
       "5013  The cost of living crises is just a name they made up just like Omicron was an anagram fir moronic the war in Ukraine and lack if gas should not mean they suffer with high extortionate prices when...   \n",
       "5016  @the_rock040404 @tradsperger No. I had it during Omicron. Not a bad case. I had one day of really achy joints and a terrible headache that I thought was a hormonal migraine.  When I still felt awf...   \n",
       "5028                             @Pianokit @WaitingForPerot @1BJDJ Oh yes ,it mutated .we had ,delta ,omicron,and the kraken! 🐉 😂.oh and don't forget monkey 🐵 pox.But it was dropped because it was racist 😆   \n",
       "5031  @BBCNewsnight Absolutely!  Masks are working so well in stringently masked Asian countries that recently re-opened to Omicron. Their populations will be infected to saturation in under a year - mo...   \n",
       "...                                                                                                                                                                                                       ...   \n",
       "6980  @bucs601 @UoKnowsBest @DC_Draino The unvaxxed got very sick and or died? Maybe get off MSM and actually research. My unvaxxed dtr had Delta and was barely sick and still alive. I got Omicron and d...   \n",
       "6989       @MarshaManley @catturd2 No.  When Omicron proved less deadly is when free thinkers started rejecting the official narrative.  You hated us for this and ostracized and fired us but we were right.   \n",
       "6990                                                                                 @thebobbyaxlrod @justin_hart @IanCopeland5 Same. Omicron was a game changer. Turns it into a minor throat cold for most.   \n",
       "6993  @Cycl_Conscience @BallouxFrancois Your argument is flawed. Masks work. We do know that. But they are no silver bullet to avoid every infection. There are times where people lift their masks and Om...   \n",
       "6996        @noxcato @andrewtanyongyi @TAH_Sci @hsom113 @MichaelSFuhrer That 'it all worked before Delta/Omicron' is the fallback position of a losing argument, similar to the 'but, but long covid' stance.   \n",
       "\n",
       "      test  bow  tfidf  \n",
       "5006     0    1      1  \n",
       "5013     0    1      1  \n",
       "5016     0    1      1  \n",
       "5028     0    1      1  \n",
       "5031     0    1      1  \n",
       "...    ...  ...    ...  \n",
       "6980     0    1      1  \n",
       "6989     0    1      1  \n",
       "6990     0    1      1  \n",
       "6993     0    1      1  \n",
       "6996     0    1      1  \n",
       "\n",
       "[406 rows x 4 columns]"
      ]
     },
     "execution_count": 61,
     "metadata": {},
     "output_type": "execute_result"
    }
   ],
   "source": [
    "df1[df1['test']!=df1['bow']]"
   ]
  },
  {
   "cell_type": "code",
   "execution_count": 62,
   "metadata": {},
   "outputs": [
    {
     "name": "stdout",
     "output_type": "stream",
     "text": [
      "0.7966950425638458\n",
      "0.7751627441161743\n"
     ]
    }
   ],
   "source": [
    "lr_bow_score = accuracy_score(test,lr_bow_predict)\n",
    "print(lr_bow_score)\n",
    "lr_tfidf_score = accuracy_score(test,lr_tfidf_predict)\n",
    "print(lr_tfidf_score)"
   ]
  },
  {
   "cell_type": "code",
   "execution_count": 63,
   "metadata": {},
   "outputs": [
    {
     "name": "stdout",
     "output_type": "stream",
     "text": [
      "              precision    recall  f1-score   support\n",
      "\n",
      "    Negative       0.91      0.11      0.19       449\n",
      "    Positive       0.79      1.00      0.88      1548\n",
      "\n",
      "    accuracy                           0.80      1997\n",
      "   macro avg       0.85      0.55      0.54      1997\n",
      "weighted avg       0.82      0.80      0.73      1997\n",
      "\n",
      "              precision    recall  f1-score   support\n",
      "\n",
      "    Negative       0.00      0.00      0.00       449\n",
      "    Positive       0.78      1.00      0.87      1548\n",
      "\n",
      "    accuracy                           0.78      1997\n",
      "   macro avg       0.39      0.50      0.44      1997\n",
      "weighted avg       0.60      0.78      0.68      1997\n",
      "\n"
     ]
    }
   ],
   "source": [
    "lr_bow_report=classification_report(test,lr_bow_predict,target_names=['Negative','Positive'])\n",
    "print(lr_bow_report)\n",
    "lr_tfidf_report = classification_report(test,lr_tfidf_predict,target_names=['Negative','Positive'])\n",
    "print(lr_tfidf_report)"
   ]
  },
  {
   "cell_type": "code",
   "execution_count": 64,
   "metadata": {},
   "outputs": [
    {
     "name": "stdout",
     "output_type": "stream",
     "text": [
      "[[  48  401]\n",
      " [   5 1543]]\n",
      "[[   0  449]\n",
      " [   0 1548]]\n"
     ]
    }
   ],
   "source": [
    "cm_bow = confusion_matrix(test,lr_bow_predict,labels=[0,1])\n",
    "print(cm_bow)\n",
    "cm_tfidf = confusion_matrix(test,lr_tfidf_predict,labels=[0,1])\n",
    "print(cm_tfidf)"
   ]
  },
  {
   "cell_type": "markdown",
   "metadata": {},
   "source": [
    "<b> Support Vector Machines </b>"
   ]
  },
  {
   "cell_type": "code",
   "execution_count": 65,
   "metadata": {},
   "outputs": [
    {
     "name": "stdout",
     "output_type": "stream",
     "text": [
      "LogisticRegression(C=1, max_iter=500, random_state=42)\n",
      "LogisticRegression(C=1, max_iter=500, random_state=42)\n"
     ]
    }
   ],
   "source": [
    "lr = LogisticRegression(penalty='l2',max_iter=500,C=1,random_state=42)\n",
    "lr_bow = lr.fit(cv_train_reviews,train) #From Bag of Words\n",
    "print(lr_bow)\n",
    "\n",
    "lr_tfidf = lr.fit(tv_train_reviews,train) #TFIDF \n",
    "print(lr_tfidf)"
   ]
  },
  {
   "cell_type": "code",
   "execution_count": 66,
   "metadata": {},
   "outputs": [
    {
     "name": "stdout",
     "output_type": "stream",
     "text": [
      "SVC(kernel='linear', random_state=0)\n",
      "SVC(kernel='linear', random_state=0)\n"
     ]
    }
   ],
   "source": [
    "from sklearn import svm\n",
    "svm = svm.SVC(kernel = 'linear', random_state = 0, C=1.0)\n",
    "svm_bow = svm.fit(cv_train_reviews,train)\n",
    "print(svm_bow)\n",
    "svm_tfidf = svm.fit(tv_train_reviews,train)\n",
    "print(svm_tfidf)"
   ]
  },
  {
   "cell_type": "code",
   "execution_count": 67,
   "metadata": {},
   "outputs": [
    {
     "name": "stdout",
     "output_type": "stream",
     "text": [
      "[1 1 1 ... 1 1 1]\n",
      "[1 1 1 ... 1 1 1]\n"
     ]
    }
   ],
   "source": [
    "svm_bow_predict = svm.predict(cv_test_reviews)\n",
    "print(svm_bow_predict)\n",
    "svm_tfidf_predict = svm.predict(tv_test_reviews)\n",
    "print(svm_tfidf_predict)"
   ]
  },
  {
   "cell_type": "code",
   "execution_count": 68,
   "metadata": {},
   "outputs": [
    {
     "name": "stdout",
     "output_type": "stream",
     "text": [
      "0.7936905358037055\n",
      "0.7921882824236355\n"
     ]
    }
   ],
   "source": [
    "svm_bow_score = accuracy_score(test,svm_bow_predict)\n",
    "print(svm_bow_score)\n",
    "svm_tfidf_score = accuracy_score(test,svm_tfidf_predict)\n",
    "print(svm_tfidf_score)"
   ]
  },
  {
   "cell_type": "code",
   "execution_count": 69,
   "metadata": {},
   "outputs": [
    {
     "name": "stdout",
     "output_type": "stream",
     "text": [
      "              precision    recall  f1-score   support\n",
      "\n",
      "    Positive       0.73      0.13      0.22       449\n",
      "    Negative       0.80      0.99      0.88      1548\n",
      "\n",
      "    accuracy                           0.79      1997\n",
      "   macro avg       0.77      0.56      0.55      1997\n",
      "weighted avg       0.78      0.79      0.73      1997\n",
      "\n",
      "              precision    recall  f1-score   support\n",
      "\n",
      "    Positive       0.93      0.08      0.15       449\n",
      "    Negative       0.79      1.00      0.88      1548\n",
      "\n",
      "    accuracy                           0.79      1997\n",
      "   macro avg       0.86      0.54      0.52      1997\n",
      "weighted avg       0.82      0.79      0.72      1997\n",
      "\n"
     ]
    }
   ],
   "source": [
    "svm_bow_report = classification_report(test,svm_bow_predict,target_names=['Positive','Negative'])\n",
    "print(svm_bow_report)\n",
    "svm_tfidf_report = classification_report(test,svm_tfidf_predict,target_names=['Positive','Negative'])\n",
    "print(svm_tfidf_report)"
   ]
  },
  {
   "cell_type": "code",
   "execution_count": 70,
   "metadata": {},
   "outputs": [
    {
     "name": "stdout",
     "output_type": "stream",
     "text": [
      "[[1527   21]\n",
      " [ 391   58]]\n",
      "[[1545    3]\n",
      " [ 412   37]]\n"
     ]
    }
   ],
   "source": [
    "cm_bow = confusion_matrix(test,svm_bow_predict,labels=[1,0])\n",
    "print(cm_bow)\n",
    "cm_tfidf = confusion_matrix(test,svm_tfidf_predict,labels=[1,0])\n",
    "print(cm_tfidf)"
   ]
  },
  {
   "cell_type": "markdown",
   "metadata": {},
   "source": [
    "<b> KNN </b>"
   ]
  },
  {
   "cell_type": "code",
   "execution_count": 71,
   "metadata": {},
   "outputs": [],
   "source": [
    "from sklearn.neighbors import KNeighborsClassifier\n",
    "knn = KNeighborsClassifier ()"
   ]
  },
  {
   "cell_type": "code",
   "execution_count": 72,
   "metadata": {},
   "outputs": [
    {
     "name": "stdout",
     "output_type": "stream",
     "text": [
      "KNeighborsClassifier()\n",
      "KNeighborsClassifier()\n"
     ]
    }
   ],
   "source": [
    "knn_bow = knn.fit(cv_train_reviews,train)\n",
    "print(knn_bow)\n",
    "knn_tfidf = knn.fit(tv_train_reviews,train)\n",
    "print(knn_tfidf)"
   ]
  },
  {
   "cell_type": "code",
   "execution_count": 73,
   "metadata": {},
   "outputs": [
    {
     "name": "stdout",
     "output_type": "stream",
     "text": [
      "[1 1 1 ... 1 1 1]\n",
      "[1 1 1 ... 1 1 1]\n"
     ]
    }
   ],
   "source": [
    "knn_bow_predict = knn.predict(cv_test_reviews)\n",
    "print(knn_bow_predict)\n",
    "knn_tfidf_predict = knn.predict(tv_test_reviews)\n",
    "print(knn_tfidf_predict)"
   ]
  },
  {
   "cell_type": "code",
   "execution_count": 74,
   "metadata": {},
   "outputs": [
    {
     "name": "stdout",
     "output_type": "stream",
     "text": [
      "0.7706559839759639\n",
      "0.7886830245368052\n"
     ]
    }
   ],
   "source": [
    "knn_bow_score = accuracy_score(test,knn_bow_predict)\n",
    "print(knn_bow_score)\n",
    "knn_tfidf_score = accuracy_score(test,knn_tfidf_predict)\n",
    "print(knn_tfidf_score)"
   ]
  },
  {
   "cell_type": "code",
   "execution_count": 75,
   "metadata": {},
   "outputs": [
    {
     "name": "stdout",
     "output_type": "stream",
     "text": [
      "              precision    recall  f1-score   support\n",
      "\n",
      "    Positive       0.40      0.04      0.08       449\n",
      "    Negative       0.78      0.98      0.87      1548\n",
      "\n",
      "    accuracy                           0.77      1997\n",
      "   macro avg       0.59      0.51      0.47      1997\n",
      "weighted avg       0.70      0.77      0.69      1997\n",
      "\n",
      "              precision    recall  f1-score   support\n",
      "\n",
      "    Positive       0.83      0.08      0.14       449\n",
      "    Negative       0.79      1.00      0.88      1548\n",
      "\n",
      "    accuracy                           0.79      1997\n",
      "   macro avg       0.81      0.54      0.51      1997\n",
      "weighted avg       0.80      0.79      0.71      1997\n",
      "\n"
     ]
    }
   ],
   "source": [
    "knn_bow_report = classification_report(test,knn_bow_predict,target_names=['Positive','Negative'])\n",
    "print(knn_bow_report)\n",
    "knn_tfidf_report = classification_report(test,knn_tfidf_predict,target_names=['Positive','Negative'])\n",
    "print(knn_tfidf_report)"
   ]
  },
  {
   "cell_type": "code",
   "execution_count": 76,
   "metadata": {},
   "outputs": [
    {
     "name": "stdout",
     "output_type": "stream",
     "text": [
      "[[  19  430]\n",
      " [  28 1520]]\n",
      "[[  34  415]\n",
      " [   7 1541]]\n"
     ]
    }
   ],
   "source": [
    "cm_bow = confusion_matrix(test,knn_bow_predict,labels=[0,1])\n",
    "print(cm_bow)\n",
    "cm_tfidf = confusion_matrix(test,knn_tfidf_predict,labels=[0,1])\n",
    "print(cm_tfidf)"
   ]
  },
  {
   "cell_type": "markdown",
   "metadata": {},
   "source": [
    "<b> Decision Tree </b>"
   ]
  },
  {
   "cell_type": "code",
   "execution_count": 77,
   "metadata": {},
   "outputs": [],
   "source": [
    "from sklearn.tree import DecisionTreeClassifier\n",
    "dtc = DecisionTreeClassifier (criterion = 'entropy',max_depth=3)"
   ]
  },
  {
   "cell_type": "code",
   "execution_count": 78,
   "metadata": {},
   "outputs": [
    {
     "name": "stdout",
     "output_type": "stream",
     "text": [
      "DecisionTreeClassifier(criterion='entropy', max_depth=3)\n",
      "DecisionTreeClassifier(criterion='entropy', max_depth=3)\n"
     ]
    }
   ],
   "source": [
    "dtc_bow = dtc.fit(cv_train_reviews,train)\n",
    "print(dtc_bow)\n",
    "dtc_tfidf = dtc.fit(tv_train_reviews,train)\n",
    "print(dtc_tfidf)"
   ]
  },
  {
   "cell_type": "code",
   "execution_count": 79,
   "metadata": {},
   "outputs": [
    {
     "name": "stdout",
     "output_type": "stream",
     "text": [
      "[1 1 1 ... 1 1 1]\n",
      "[1 1 1 ... 1 1 1]\n"
     ]
    }
   ],
   "source": [
    "dtc_bow_predict = dtc.predict(cv_test_reviews)\n",
    "print(dtc_bow_predict)\n",
    "dtc_tfidf_predict = dtc.predict(tv_test_reviews)\n",
    "print(dtc_tfidf_predict)"
   ]
  },
  {
   "cell_type": "code",
   "execution_count": 80,
   "metadata": {},
   "outputs": [
    {
     "name": "stdout",
     "output_type": "stream",
     "text": [
      "0.7751627441161743\n",
      "0.7751627441161743\n"
     ]
    }
   ],
   "source": [
    "dtc_bow_score = accuracy_score(test,dtc_bow_predict)\n",
    "print(dtc_bow_score)\n",
    "dtc_tfidf_score = accuracy_score(test,dtc_tfidf_predict)\n",
    "print(dtc_tfidf_score)"
   ]
  },
  {
   "cell_type": "code",
   "execution_count": 81,
   "metadata": {},
   "outputs": [
    {
     "name": "stdout",
     "output_type": "stream",
     "text": [
      "              precision    recall  f1-score   support\n",
      "\n",
      "    Positive       0.00      0.00      0.00       449\n",
      "    Negative       0.78      1.00      0.87      1548\n",
      "\n",
      "    accuracy                           0.78      1997\n",
      "   macro avg       0.39      0.50      0.44      1997\n",
      "weighted avg       0.60      0.78      0.68      1997\n",
      "\n",
      "              precision    recall  f1-score   support\n",
      "\n",
      "    Positive       0.00      0.00      0.00       449\n",
      "    Negative       0.78      1.00      0.87      1548\n",
      "\n",
      "    accuracy                           0.78      1997\n",
      "   macro avg       0.39      0.50      0.44      1997\n",
      "weighted avg       0.60      0.78      0.68      1997\n",
      "\n"
     ]
    }
   ],
   "source": [
    "dtc_bow_report = classification_report(test,dtc_bow_predict,target_names=['Positive','Negative'])\n",
    "print(dtc_bow_report)\n",
    "dtc_tfidf_report = classification_report(test,dtc_tfidf_predict,target_names=['Positive','Negative'])\n",
    "print(dtc_tfidf_report)"
   ]
  },
  {
   "cell_type": "code",
   "execution_count": 100,
   "metadata": {},
   "outputs": [
    {
     "name": "stdout",
     "output_type": "stream",
     "text": [
      "[[   0  449]\n",
      " [   1 1547]]\n",
      "[[   0  449]\n",
      " [   1 1547]]\n"
     ]
    }
   ],
   "source": [
    "cm_bow = confusion_matrix(test,dtc_bow_predict,labels=[0,1])\n",
    "print(cm_bow)\n",
    "cm_tfidf = confusion_matrix(test,dtc_tfidf_predict,labels=[0,1])\n",
    "print(cm_tfidf)"
   ]
  },
  {
   "cell_type": "code",
   "execution_count": null,
   "metadata": {},
   "outputs": [],
   "source": []
  }
 ],
 "metadata": {
  "kernelspec": {
   "display_name": "Python 3 (ipykernel)",
   "language": "python",
   "name": "python3"
  },
  "language_info": {
   "codemirror_mode": {
    "name": "ipython",
    "version": 3
   },
   "file_extension": ".py",
   "mimetype": "text/x-python",
   "name": "python",
   "nbconvert_exporter": "python",
   "pygments_lexer": "ipython3",
   "version": "3.11.4"
  }
 },
 "nbformat": 4,
 "nbformat_minor": 4
}
